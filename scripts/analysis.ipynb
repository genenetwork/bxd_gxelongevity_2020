{
 "cells": [
  {
   "cell_type": "markdown",
   "id": "together-glass",
   "metadata": {},
   "source": [
    "# Analysis of BXD "
   ]
  },
  {
   "cell_type": "markdown",
   "id": "significant-demand",
   "metadata": {},
   "source": [
    "## Preparatory steps"
   ]
  },
  {
   "cell_type": "code",
   "execution_count": 1,
   "id": "outdoor-battlefield",
   "metadata": {},
   "outputs": [
    {
     "name": "stderr",
     "output_type": "stream",
     "text": [
      "── \u001b[1mAttaching packages\u001b[22m ─────────────────────────────────────── tidyverse 1.3.0 ──\n",
      "\n",
      "\u001b[32m✔\u001b[39m \u001b[34mggplot2\u001b[39m 3.3.2     \u001b[32m✔\u001b[39m \u001b[34mpurrr  \u001b[39m 0.3.4\n",
      "\u001b[32m✔\u001b[39m \u001b[34mtibble \u001b[39m 3.0.3     \u001b[32m✔\u001b[39m \u001b[34mdplyr  \u001b[39m 1.0.1\n",
      "\u001b[32m✔\u001b[39m \u001b[34mtidyr  \u001b[39m 1.1.1     \u001b[32m✔\u001b[39m \u001b[34mstringr\u001b[39m 1.4.0\n",
      "\u001b[32m✔\u001b[39m \u001b[34mreadr  \u001b[39m 1.3.1     \u001b[32m✔\u001b[39m \u001b[34mforcats\u001b[39m 0.5.0\n",
      "\n",
      "── \u001b[1mConflicts\u001b[22m ────────────────────────────────────────── tidyverse_conflicts() ──\n",
      "\u001b[31m✖\u001b[39m \u001b[34mdplyr\u001b[39m::\u001b[32mfilter()\u001b[39m masks \u001b[34mstats\u001b[39m::filter()\n",
      "\u001b[31m✖\u001b[39m \u001b[34mdplyr\u001b[39m::\u001b[32mlag()\u001b[39m    masks \u001b[34mstats\u001b[39m::lag()\n",
      "\n",
      "Loading required package: sm\n",
      "\n",
      "Package 'sm', version 2.2-5.6: type help(sm) for summary information\n",
      "\n",
      "Loading required package: zoo\n",
      "\n",
      "\n",
      "Attaching package: ‘zoo’\n",
      "\n",
      "\n",
      "The following objects are masked from ‘package:base’:\n",
      "\n",
      "    as.Date, as.Date.numeric\n",
      "\n",
      "\n",
      "Loading required package: Matrix\n",
      "\n",
      "\n",
      "Attaching package: ‘Matrix’\n",
      "\n",
      "\n",
      "The following objects are masked from ‘package:tidyr’:\n",
      "\n",
      "    expand, pack, unpack\n",
      "\n",
      "\n",
      "Loading 'metafor' package (version 2.4-0). For an overview \n",
      "and introduction to the package please type: help(metafor).\n",
      "\n"
     ]
    }
   ],
   "source": [
    "# load packages needed\n",
    "# install.packages(\"lme4\")\n",
    "# install.packages(\"tidyverse\")\n",
    "# install.packages(\"vioplot\")\n",
    "# install.packages(\"metafor\")\n",
    "library(tidyverse)\n",
    "library(vioplot)\n",
    "library(lme4)\n",
    "library(metafor)"
   ]
  },
  {
   "cell_type": "code",
   "execution_count": 2,
   "id": "packed-pharmaceutical",
   "metadata": {},
   "outputs": [
    {
     "data": {
      "text/html": [
       "<style>\n",
       ".list-inline {list-style: none; margin:0; padding: 0}\n",
       ".list-inline>li {display: inline-block}\n",
       ".list-inline>li:not(:last-child)::after {content: \"\\00b7\"; padding: 0 .5ex}\n",
       "</style>\n",
       "<ol class=list-inline><li>'IDFemaleAgingColony'</li><li>'EarTagNumberCurrent'</li><li>'EarTagNumberOriginal'</li><li>'StrainNameCurrent'</li><li>'DietCode'</li><li>'Sex'</li><li>'CoatColorOfCase'</li><li>'GenerationOfCase'</li><li>'CauseOfDeath'</li><li>'AgeAtDeath'</li><li>'DateOfBirth'</li><li>'DateDietStart'</li><li>'DateOfDeath'</li><li>'EntryAgeInColony'</li><li>'Weight00Baseline'</li><li>'logEntryAgeInColony'</li><li>'AdjWeightBaseline'</li><li>'AdjWeightBaseline2'</li><li>'Weight01'</li><li>'Weight02'</li><li>'WeightGainPost100days'</li><li>'Weight03'</li><li>'Weight04'</li><li>'Weight05'</li><li>'Weight06'</li><li>'WeightGainPost400days'</li><li>'Weight07'</li><li>'Weight08'</li><li>'Weight09'</li><li>'Weight10'</li><li>'Weight11'</li><li>'Weight12'</li><li>'Weight13'</li><li>'Weight14'</li><li>'DaysOnDietAtWeight01'</li><li>'DaysOnDietAtWeight02'</li><li>'DaysOnDietAtWeight03'</li><li>'DaysOnDietAtWeight04'</li><li>'DaysOnDietAtWeight05'</li><li>'DaysOnDietAtWeight06'</li><li>'DaysOnDietAtWeight07'</li><li>'DaysOnDietAtWeight08'</li><li>'DaysOnDietAtWeight09'</li><li>'DaysOnDietAtWeight10'</li><li>'DaysOnDietAtWeight11'</li><li>'DaysOnDietAtWeight12'</li><li>'DaysOnDietAtWeight13'</li><li>'DaysOnDietAtWeight14'</li><li>'AgeAtWeight01'</li><li>'AgeAtWeight02'</li><li>'AgeAtWeight03'</li><li>'AgeAtWeight04'</li><li>'AgeAtWeight05'</li><li>'AgeAtWeight06'</li><li>'AgeAtWeight07'</li><li>'AgeAtWeight08'</li><li>'AgeAtWeight09'</li><li>'AgeAtWeight10'</li><li>'AgeAtWeight11'</li><li>'AgeAtWeight12'</li><li>'AgeAtWeight13'</li><li>'AgeAtWeight14'</li><li>'FearConditioned'</li></ol>\n"
      ],
      "text/latex": [
       "\\begin{enumerate*}\n",
       "\\item 'IDFemaleAgingColony'\n",
       "\\item 'EarTagNumberCurrent'\n",
       "\\item 'EarTagNumberOriginal'\n",
       "\\item 'StrainNameCurrent'\n",
       "\\item 'DietCode'\n",
       "\\item 'Sex'\n",
       "\\item 'CoatColorOfCase'\n",
       "\\item 'GenerationOfCase'\n",
       "\\item 'CauseOfDeath'\n",
       "\\item 'AgeAtDeath'\n",
       "\\item 'DateOfBirth'\n",
       "\\item 'DateDietStart'\n",
       "\\item 'DateOfDeath'\n",
       "\\item 'EntryAgeInColony'\n",
       "\\item 'Weight00Baseline'\n",
       "\\item 'logEntryAgeInColony'\n",
       "\\item 'AdjWeightBaseline'\n",
       "\\item 'AdjWeightBaseline2'\n",
       "\\item 'Weight01'\n",
       "\\item 'Weight02'\n",
       "\\item 'WeightGainPost100days'\n",
       "\\item 'Weight03'\n",
       "\\item 'Weight04'\n",
       "\\item 'Weight05'\n",
       "\\item 'Weight06'\n",
       "\\item 'WeightGainPost400days'\n",
       "\\item 'Weight07'\n",
       "\\item 'Weight08'\n",
       "\\item 'Weight09'\n",
       "\\item 'Weight10'\n",
       "\\item 'Weight11'\n",
       "\\item 'Weight12'\n",
       "\\item 'Weight13'\n",
       "\\item 'Weight14'\n",
       "\\item 'DaysOnDietAtWeight01'\n",
       "\\item 'DaysOnDietAtWeight02'\n",
       "\\item 'DaysOnDietAtWeight03'\n",
       "\\item 'DaysOnDietAtWeight04'\n",
       "\\item 'DaysOnDietAtWeight05'\n",
       "\\item 'DaysOnDietAtWeight06'\n",
       "\\item 'DaysOnDietAtWeight07'\n",
       "\\item 'DaysOnDietAtWeight08'\n",
       "\\item 'DaysOnDietAtWeight09'\n",
       "\\item 'DaysOnDietAtWeight10'\n",
       "\\item 'DaysOnDietAtWeight11'\n",
       "\\item 'DaysOnDietAtWeight12'\n",
       "\\item 'DaysOnDietAtWeight13'\n",
       "\\item 'DaysOnDietAtWeight14'\n",
       "\\item 'AgeAtWeight01'\n",
       "\\item 'AgeAtWeight02'\n",
       "\\item 'AgeAtWeight03'\n",
       "\\item 'AgeAtWeight04'\n",
       "\\item 'AgeAtWeight05'\n",
       "\\item 'AgeAtWeight06'\n",
       "\\item 'AgeAtWeight07'\n",
       "\\item 'AgeAtWeight08'\n",
       "\\item 'AgeAtWeight09'\n",
       "\\item 'AgeAtWeight10'\n",
       "\\item 'AgeAtWeight11'\n",
       "\\item 'AgeAtWeight12'\n",
       "\\item 'AgeAtWeight13'\n",
       "\\item 'AgeAtWeight14'\n",
       "\\item 'FearConditioned'\n",
       "\\end{enumerate*}\n"
      ],
      "text/markdown": [
       "1. 'IDFemaleAgingColony'\n",
       "2. 'EarTagNumberCurrent'\n",
       "3. 'EarTagNumberOriginal'\n",
       "4. 'StrainNameCurrent'\n",
       "5. 'DietCode'\n",
       "6. 'Sex'\n",
       "7. 'CoatColorOfCase'\n",
       "8. 'GenerationOfCase'\n",
       "9. 'CauseOfDeath'\n",
       "10. 'AgeAtDeath'\n",
       "11. 'DateOfBirth'\n",
       "12. 'DateDietStart'\n",
       "13. 'DateOfDeath'\n",
       "14. 'EntryAgeInColony'\n",
       "15. 'Weight00Baseline'\n",
       "16. 'logEntryAgeInColony'\n",
       "17. 'AdjWeightBaseline'\n",
       "18. 'AdjWeightBaseline2'\n",
       "19. 'Weight01'\n",
       "20. 'Weight02'\n",
       "21. 'WeightGainPost100days'\n",
       "22. 'Weight03'\n",
       "23. 'Weight04'\n",
       "24. 'Weight05'\n",
       "25. 'Weight06'\n",
       "26. 'WeightGainPost400days'\n",
       "27. 'Weight07'\n",
       "28. 'Weight08'\n",
       "29. 'Weight09'\n",
       "30. 'Weight10'\n",
       "31. 'Weight11'\n",
       "32. 'Weight12'\n",
       "33. 'Weight13'\n",
       "34. 'Weight14'\n",
       "35. 'DaysOnDietAtWeight01'\n",
       "36. 'DaysOnDietAtWeight02'\n",
       "37. 'DaysOnDietAtWeight03'\n",
       "38. 'DaysOnDietAtWeight04'\n",
       "39. 'DaysOnDietAtWeight05'\n",
       "40. 'DaysOnDietAtWeight06'\n",
       "41. 'DaysOnDietAtWeight07'\n",
       "42. 'DaysOnDietAtWeight08'\n",
       "43. 'DaysOnDietAtWeight09'\n",
       "44. 'DaysOnDietAtWeight10'\n",
       "45. 'DaysOnDietAtWeight11'\n",
       "46. 'DaysOnDietAtWeight12'\n",
       "47. 'DaysOnDietAtWeight13'\n",
       "48. 'DaysOnDietAtWeight14'\n",
       "49. 'AgeAtWeight01'\n",
       "50. 'AgeAtWeight02'\n",
       "51. 'AgeAtWeight03'\n",
       "52. 'AgeAtWeight04'\n",
       "53. 'AgeAtWeight05'\n",
       "54. 'AgeAtWeight06'\n",
       "55. 'AgeAtWeight07'\n",
       "56. 'AgeAtWeight08'\n",
       "57. 'AgeAtWeight09'\n",
       "58. 'AgeAtWeight10'\n",
       "59. 'AgeAtWeight11'\n",
       "60. 'AgeAtWeight12'\n",
       "61. 'AgeAtWeight13'\n",
       "62. 'AgeAtWeight14'\n",
       "63. 'FearConditioned'\n",
       "\n",
       "\n"
      ],
      "text/plain": [
       " [1] \"IDFemaleAgingColony\"   \"EarTagNumberCurrent\"   \"EarTagNumberOriginal\" \n",
       " [4] \"StrainNameCurrent\"     \"DietCode\"              \"Sex\"                  \n",
       " [7] \"CoatColorOfCase\"       \"GenerationOfCase\"      \"CauseOfDeath\"         \n",
       "[10] \"AgeAtDeath\"            \"DateOfBirth\"           \"DateDietStart\"        \n",
       "[13] \"DateOfDeath\"           \"EntryAgeInColony\"      \"Weight00Baseline\"     \n",
       "[16] \"logEntryAgeInColony\"   \"AdjWeightBaseline\"     \"AdjWeightBaseline2\"   \n",
       "[19] \"Weight01\"              \"Weight02\"              \"WeightGainPost100days\"\n",
       "[22] \"Weight03\"              \"Weight04\"              \"Weight05\"             \n",
       "[25] \"Weight06\"              \"WeightGainPost400days\" \"Weight07\"             \n",
       "[28] \"Weight08\"              \"Weight09\"              \"Weight10\"             \n",
       "[31] \"Weight11\"              \"Weight12\"              \"Weight13\"             \n",
       "[34] \"Weight14\"              \"DaysOnDietAtWeight01\"  \"DaysOnDietAtWeight02\" \n",
       "[37] \"DaysOnDietAtWeight03\"  \"DaysOnDietAtWeight04\"  \"DaysOnDietAtWeight05\" \n",
       "[40] \"DaysOnDietAtWeight06\"  \"DaysOnDietAtWeight07\"  \"DaysOnDietAtWeight08\" \n",
       "[43] \"DaysOnDietAtWeight09\"  \"DaysOnDietAtWeight10\"  \"DaysOnDietAtWeight11\" \n",
       "[46] \"DaysOnDietAtWeight12\"  \"DaysOnDietAtWeight13\"  \"DaysOnDietAtWeight14\" \n",
       "[49] \"AgeAtWeight01\"         \"AgeAtWeight02\"         \"AgeAtWeight03\"        \n",
       "[52] \"AgeAtWeight04\"         \"AgeAtWeight05\"         \"AgeAtWeight06\"        \n",
       "[55] \"AgeAtWeight07\"         \"AgeAtWeight08\"         \"AgeAtWeight09\"        \n",
       "[58] \"AgeAtWeight10\"         \"AgeAtWeight11\"         \"AgeAtWeight12\"        \n",
       "[61] \"AgeAtWeight13\"         \"AgeAtWeight14\"         \"FearConditioned\"      "
      ]
     },
     "metadata": {},
     "output_type": "display_data"
    }
   ],
   "source": [
    "BXDagingbwt <- \"../data/AgingBXDNOV2018dataSR2.csv\"\n",
    "agingbxd <- read.csv(BXDagingbwt)\n",
    "names(agingbxd)"
   ]
  },
  {
   "cell_type": "code",
   "execution_count": 3,
   "id": "regulated-desert",
   "metadata": {},
   "outputs": [
    {
     "name": "stderr",
     "output_type": "stream",
     "text": [
      "`summarise()` regrouping output by 'DietCode' (override with `.groups` argument)\n",
      "\n",
      "`summarise()` regrouping output by 'DietCode' (override with `.groups` argument)\n",
      "\n"
     ]
    },
    {
     "name": "stdout",
     "output_type": "stream",
     "text": [
      "\n",
      " --- ANOVA --- \n",
      "         DietCode StrainNameCurrent         Residuals \n",
      "              4.7              29.5              65.8 \n",
      "\n",
      " --- LM --- \n",
      "\u001b[90m# A tibble: 2 x 5\u001b[39m\n",
      "  coefname    Estimate `Std. Error` `t value` `Pr(>|t|)`\n",
      "  \u001b[3m\u001b[90m<chr>\u001b[39m\u001b[23m          \u001b[3m\u001b[90m<dbl>\u001b[39m\u001b[23m        \u001b[3m\u001b[90m<dbl>\u001b[39m\u001b[23m     \u001b[3m\u001b[90m<dbl>\u001b[39m\u001b[23m      \u001b[3m\u001b[90m<dbl>\u001b[39m\u001b[23m\n",
      "\u001b[90m1\u001b[39m (Intercept)    709.         27.5      25.8   1.67\u001b[90me\u001b[39m\u001b[31m-116\u001b[39m\n",
      "\u001b[90m2\u001b[39m DietCodeHF     -\u001b[31m85\u001b[39m\u001b[31m.\u001b[39m\u001b[31m7\u001b[39m         8.97     -\u001b[31m9\u001b[39m\u001b[31m.\u001b[39m\u001b[31m56\u001b[39m  6.64\u001b[90me\u001b[39m\u001b[31m- 21\u001b[39m\n",
      "\n",
      " --- ANOVAX --- \n",
      "                  DietCode          StrainNameCurrent \n",
      "                       4.7                       29.5 \n",
      "DietCode:StrainNameCurrent                  Residuals \n",
      "                       6.2                       59.6 \n",
      "\n",
      " --- LMX --- \n",
      "\u001b[90m# A tibble: 2 x 5\u001b[39m\n",
      "  coefname    Estimate `Std. Error` `t value` `Pr(>|t|)`\n",
      "  \u001b[3m\u001b[90m<chr>\u001b[39m\u001b[23m          \u001b[3m\u001b[90m<dbl>\u001b[39m\u001b[23m        \u001b[3m\u001b[90m<dbl>\u001b[39m\u001b[23m     \u001b[3m\u001b[90m<dbl>\u001b[39m\u001b[23m      \u001b[3m\u001b[90m<dbl>\u001b[39m\u001b[23m\n",
      "\u001b[90m1\u001b[39m (Intercept)     728.         35.9     20.3    3.85\u001b[90me\u001b[39m\u001b[31m-78\u001b[39m\n",
      "\u001b[90m2\u001b[39m DietCodeHF     -\u001b[31m129\u001b[39m\u001b[31m.\u001b[39m         53.3     -\u001b[31m2\u001b[39m\u001b[31m.\u001b[39m\u001b[31m41\u001b[39m   1.60\u001b[90me\u001b[39m\u001b[31m- 2\u001b[39m\n",
      "\n",
      " --- LMM --- \n",
      "            Estimate Std. Error  t value\n",
      "(Intercept) 694.4516   16.09812 43.13868\n",
      "DietCodeHF  -86.6381   12.92065 -6.70540\n",
      "\n",
      " --- Meta --- \n",
      "            estimate       se      zval        pval     ci.lb     ci.ub\n",
      "DietCodeHF -88.77345 14.26862 -6.221588 4.92148e-10 -116.7394 -60.80748\n"
     ]
    }
   ],
   "source": [
    "summarizeByDiet <- function(data,pheno,nmin=3)\n",
    "    {\n",
    "    strainByDiet <- group_by(data,DietCode,StrainNameCurrent) %>%\n",
    "          summarize(n=n()) %>%\n",
    "          pivot_wider(id_cols = \"StrainNameCurrent\",names_from = \"DietCode\",values_from = \"n\")\n",
    "    strainsWithnmin <- filter(strainByDiet,CD>nmin) %>% filter(HF>nmin) %>% select(StrainNameCurrent)\n",
    "    newdata <- filter(data,StrainNameCurrent %in% strainsWithnmin$StrainNameCurrent) %>%\n",
    "             mutate(StrainNameCurrent=fct_drop(fct_explicit_na((StrainNameCurrent))))\n",
    "    \n",
    "    # lm\n",
    "    outLM <- lm(formula(paste(pheno,\"~DietCode+StrainNameCurrent\")),data=newdata)\n",
    "    # lmx\n",
    "    outLMX <- lm(formula(paste(pheno,\"~DietCode*StrainNameCurrent\")),data=newdata)\n",
    "    # lmm\n",
    "    outLMM <- lmer(formula(paste(pheno,\"~DietCode+(1+DietCode|StrainNameCurrent)\")),data=newdata)\n",
    "    summary(outLMM)\n",
    "    # meta analysis\n",
    "    pheno <- as.name(pheno)\n",
    "    strainByDiet <- group_by(newdata,DietCode,StrainNameCurrent) %>% \n",
    "                summarize(n:=sum(!is.na( {{ pheno }}  )),\n",
    "                          mean:=mean( {{ pheno }},na.rm=T),\n",
    "                          sd := sd( {{ pheno }},na.rm=T)) %>%\n",
    "                mutate(se=sd/sqrt(n)) %>%\n",
    "                pivot_wider(id_cols = \"StrainNameCurrent\",\n",
    "                            names_from = c(\"DietCode\"),values_from = c(\"n\",\"mean\",\"sd\"))\n",
    "\n",
    "   outMeta <- rma.uni(measure=\"MD\",m1i=mean_HF,m2i=mean_CD,\n",
    "                      sd1i=sd_HF,sd2i=sd_CD,n1i=n_HF,n2i=n_CD,\n",
    "                      data=strainByDiet)\n",
    "    \n",
    "    lmtab <- as_tibble(coef(summary(outLM)),rownames=\"coefname\") %>% filter(!grepl(\"Strain\",coefname))\n",
    "    av <- anova(outLM)\n",
    "    avpct <- round(1000*av[,2]/sum(av[,2]))/10\n",
    "    names(avpct) <- rownames(av)\n",
    "    lmxtab <- as_tibble(coef(summary(outLMX)),rownames=\"coefname\") %>%    filter(!grepl(\"Strain\",coefname))\n",
    "    avx <- anova(outLMX)\n",
    "    avxpct <- round(1000*avx[,2]/sum(avx[,2]))/10\n",
    "    names(avxpct) <- rownames(avx)\n",
    "    lmmtab <- coef(summary(outLMM))\n",
    "    metatab <- coef(summary(outMeta))\n",
    "    rownames(metatab) <- \"DietCodeHF\"\n",
    "    \n",
    "    cat(\"\\n --- ANOVA --- \\n\")\n",
    "    print(avpct)\n",
    "    cat(\"\\n --- LM --- \\n\")\n",
    "    print(lmtab)\n",
    "    cat(\"\\n --- ANOVAX --- \\n\")\n",
    "    print(avxpct)\n",
    "    cat(\"\\n --- LMX --- \\n\")\n",
    "    print(lmxtab)\n",
    "    cat(\"\\n --- LMM --- \\n\")\n",
    "    print(lmmtab)\n",
    "    cat(\"\\n --- Meta --- \\n\")\n",
    "    print(metatab)\n",
    "\n",
    "   list(outLM=outLM,outLMX=outLMX,outLMM=outLMM,outMeta=outMeta,strainByDiet=strainByDiet)\n",
    "}\n",
    "\n",
    "out <- summarizeByDiet(agingbxd,\"AgeAtDeath\")"
   ]
  },
  {
   "cell_type": "code",
   "execution_count": 4,
   "id": "exceptional-prompt",
   "metadata": {},
   "outputs": [
    {
     "name": "stderr",
     "output_type": "stream",
     "text": [
      "`summarise()` ungrouping output (override with `.groups` argument)\n",
      "\n",
      "Warning message in rma.uni(yi = strainByCov$estimate, sei = strainByCov$std.error):\n",
      "“Studies with NAs omitted from model fitting.”\n"
     ]
    },
    {
     "name": "stdout",
     "output_type": "stream",
     "text": [
      "\n",
      " --- ANOVA --- \n",
      " Weight02 Residuals \n",
      "      5.4      94.6 \n",
      "\n",
      " --- LM --- \n",
      "\u001b[90m# A tibble: 2 x 5\u001b[39m\n",
      "  coefname    Estimate `Std. Error` `t value` `Pr(>|t|)`\n",
      "  \u001b[3m\u001b[90m<chr>\u001b[39m\u001b[23m          \u001b[3m\u001b[90m<dbl>\u001b[39m\u001b[23m        \u001b[3m\u001b[90m<dbl>\u001b[39m\u001b[23m     \u001b[3m\u001b[90m<dbl>\u001b[39m\u001b[23m      \u001b[3m\u001b[90m<dbl>\u001b[39m\u001b[23m\n",
      "\u001b[90m1\u001b[39m (Intercept)   795.         16.7       47.7   1.95\u001b[90me\u001b[39m\u001b[31m-284\u001b[39m\n",
      "\u001b[90m2\u001b[39m Weight02       -\u001b[31m3\u001b[39m\u001b[31m.\u001b[39m\u001b[31m93\u001b[39m        0.463     -\u001b[31m8\u001b[39m\u001b[31m.\u001b[39m\u001b[31m49\u001b[39m  5.74\u001b[90me\u001b[39m\u001b[31m- 17\u001b[39m\n",
      "\n",
      " --- LMM --- \n",
      "             Estimate Std. Error   t value\n",
      "(Intercept) 796.33768 19.4085791 41.030190\n",
      "Weight02     -3.96807  0.4570734 -8.681472\n",
      "\n",
      " --- Meta --- \n",
      "          estimate        se     zval         pval     ci.lb     ci.ub\n",
      "Weight02 -4.419632 0.6226359 -7.09826 1.263371e-12 -5.639976 -3.199288\n"
     ]
    }
   ],
   "source": [
    "summarizeByCovariate <- function(data,pheno,cov,nmin=3)\n",
    "    {\n",
    "    covname <- as.name(cov)\n",
    "\n",
    "    byStrain <- group_by(data,StrainNameCurrent) %>%\n",
    "          summarize(n=n())\n",
    "    strainsWithnmin <- filter(byStrain,n>nmin) %>% select(StrainNameCurrent)\n",
    "    newdata <- filter(data,StrainNameCurrent %in% strainsWithnmin$StrainNameCurrent) %>%\n",
    "             mutate(StrainNameCurrent=fct_drop(fct_explicit_na((StrainNameCurrent))))\n",
    "    \n",
    "    # lm\n",
    "    outLM <- lm(formula(paste(pheno,\"~\",cov)),data=newdata)\n",
    "    # lmm\n",
    "    outLMM <- lmer(formula(paste(pheno,\"~\",cov,\"+(1|StrainNameCurrent)\")),data=newdata)\n",
    "    # meta analysis\n",
    "    covLM <- function(df)\n",
    "        {\n",
    "        lm(formula(paste(pheno,\"~\",cov)),data=df)\n",
    "        }\n",
    "    pheno <- as.name(pheno)\n",
    "    strainByCov <- group_by(newdata,StrainNameCurrent) %>% \n",
    "                   nest() %>% \n",
    "                   mutate(lmresult=map(data,covLM)) %>%\n",
    "                   mutate(beta=map(lmresult,broom::tidy)) %>% \n",
    "                   unnest(beta) %>%\n",
    "                   filter(term==cov)\n",
    "    outMeta <- rma.uni(yi=strainByCov$estimate,sei=strainByCov$std.error)\n",
    "\n",
    "    lmtab <- as_tibble(coef(summary(outLM)),rownames=\"coefname\") %>% filter(!grepl(\"Strain\",coefname))\n",
    "    av <- anova(outLM)\n",
    "    avpct <- round(1000*av[,2]/sum(av[,2]))/10\n",
    "    names(avpct) <- rownames(av)\n",
    "    lmmtab <- coef(summary(outLMM))\n",
    "    metatab <- coef(summary(outMeta))\n",
    "    rownames(metatab) <- cov\n",
    "    \n",
    "    cat(\"\\n --- ANOVA --- \\n\")\n",
    "    print(avpct)\n",
    "    cat(\"\\n --- LM --- \\n\")\n",
    "    print(lmtab)\n",
    "    cat(\"\\n --- LMM --- \\n\")\n",
    "    print(lmmtab)\n",
    "    cat(\"\\n --- Meta --- \\n\")\n",
    "    print(metatab)\n",
    "\n",
    "   \n",
    "   list(outLM=outLM,outLMM=outLMM,outMeta=outMeta)\n",
    "}\n",
    "out <- summarizeByCovariate(agingbxd,\"AgeAtDeath\",\"Weight02\")"
   ]
  },
  {
   "cell_type": "code",
   "execution_count": 5,
   "id": "removed-questionnaire",
   "metadata": {},
   "outputs": [
    {
     "name": "stderr",
     "output_type": "stream",
     "text": [
      "`summarise()` ungrouping output (override with `.groups` argument)\n",
      "\n"
     ]
    },
    {
     "name": "stdout",
     "output_type": "stream",
     "text": [
      "\n",
      " --- ANOVA --- \n",
      "         Weight06          DietCode StrainNameCurrent         Residuals \n",
      "              8.6               3.6              22.3              65.5 \n",
      "\n",
      " --- LM --- \n",
      "\u001b[90m# A tibble: 3 x 5\u001b[39m\n",
      "  coefname    Estimate `Std. Error` `t value` `Pr(>|t|)`\n",
      "  \u001b[3m\u001b[90m<chr>\u001b[39m\u001b[23m          \u001b[3m\u001b[90m<dbl>\u001b[39m\u001b[23m        \u001b[3m\u001b[90m<dbl>\u001b[39m\u001b[23m     \u001b[3m\u001b[90m<dbl>\u001b[39m\u001b[23m      \u001b[3m\u001b[90m<dbl>\u001b[39m\u001b[23m\n",
      "\u001b[90m1\u001b[39m (Intercept)   831.         29.1       28.6   2.65\u001b[90me\u001b[39m\u001b[31m-107\u001b[39m\n",
      "\u001b[90m2\u001b[39m Weight06       -\u001b[31m1\u001b[39m\u001b[31m.\u001b[39m\u001b[31m25\u001b[39m        0.470     -\u001b[31m2\u001b[39m\u001b[31m.\u001b[39m\u001b[31m67\u001b[39m  7.83\u001b[90me\u001b[39m\u001b[31m-  3\u001b[39m\n",
      "\u001b[90m3\u001b[39m DietCodeHF    -\u001b[31m73\u001b[39m\u001b[31m.\u001b[39m\u001b[31m0\u001b[39m        14.4       -\u001b[31m5\u001b[39m\u001b[31m.\u001b[39m\u001b[31m0\u001b[39m\u001b[31m5\u001b[39m  6.08\u001b[90me\u001b[39m\u001b[31m-  7\u001b[39m\n",
      "\n",
      " --- LMM --- \n",
      "              Estimate Std. Error   t value\n",
      "(Intercept) 807.063385  19.423195 41.551526\n",
      "Weight06     -1.152949   0.457566 -2.519744\n",
      "DietCodeHF  -73.802621  14.264865 -5.173734\n",
      "\n",
      " --- Meta --- \n",
      "           estimate        se     zval      pval   ci.lb     ci.ub\n",
      "Weight06 -0.6686714 0.4617069 -1.44826 0.1475444 -1.5736 0.2362574\n"
     ]
    }
   ],
   "source": [
    "summarizeByCovariate2 <- function(data,pheno,cov,backCov,nmin=3)\n",
    "    {\n",
    "    covname <- as.name(cov)\n",
    "\n",
    "    byStrain <- group_by(data,StrainNameCurrent) %>%\n",
    "          summarize(n=n())\n",
    "    strainsWithnmin <- filter(byStrain,n>nmin) %>% select(StrainNameCurrent)\n",
    "    newdata <- filter(data,StrainNameCurrent %in% strainsWithnmin$StrainNameCurrent) %>%\n",
    "             mutate(StrainNameCurrent=fct_drop(fct_explicit_na((StrainNameCurrent))))\n",
    "    \n",
    "    # lm\n",
    "    outLM <- lm(formula(paste(pheno,\"~\",cov,\"+\",backCov,\"+StrainNameCurrent\")),data=newdata)\n",
    "    # lmm\n",
    "    outLMM <- lmer(formula(paste(pheno,\"~\",cov,\"+\",backCov,\"+(1|StrainNameCurrent)\")),data=newdata)\n",
    "    # meta analysis\n",
    "    covLM <- function(df)\n",
    "        {\n",
    "        lm(formula(paste(pheno,\"~\",cov,\"+\",backCov)),data=df)\n",
    "        }\n",
    "    pheno <- as.name(pheno)\n",
    "    strainByCov <- group_by(newdata,StrainNameCurrent) %>% \n",
    "                   nest() %>% \n",
    "                   mutate(lmresult=map(data,covLM)) %>%\n",
    "                   mutate(beta=map(lmresult,broom::tidy)) %>% \n",
    "                   unnest(beta) %>%\n",
    "                   filter(grepl(cov,term))\n",
    "    outMeta <- rma.uni(yi=strainByCov$estimate,sei=strainByCov$std.error)\n",
    "                   \n",
    "\n",
    "   # outMeta <- rma.uni(measure=\"MD\",m1i=mean_HF,m2i=mean_CD,\n",
    "   #                   sd1i=sd_HF,sd2i=sd_CD,n1i=n_HF,n2i=n_CD,\n",
    "   #                   data=strainByDiet)\n",
    "    lmtab <- as_tibble(coef(summary(outLM)),rownames=\"coefname\") %>% filter(!grepl(\"Strain\",coefname))\n",
    "    av <- anova(outLM)\n",
    "    avpct <- round(1000*av[,2]/sum(av[,2]))/10\n",
    "    names(avpct) <- rownames(av)\n",
    "    lmmtab <- coef(summary(outLMM))\n",
    "    metatab <- coef(summary(outMeta))\n",
    "    rownames(metatab) <- cov\n",
    "    \n",
    "    cat(\"\\n --- ANOVA --- \\n\")\n",
    "    print(avpct)\n",
    "    cat(\"\\n --- LM --- \\n\")\n",
    "    print(lmtab)\n",
    "    cat(\"\\n --- LMM --- \\n\")\n",
    "    print(lmmtab)\n",
    "    cat(\"\\n --- Meta --- \\n\")\n",
    "    print(metatab)\n",
    "   list(outLM=outLM,outLMM=outLMM,outMeta=outMeta)\n",
    "}\n",
    "out <- summarizeByCovariate2(agingbxd,\"AgeAtDeath\",\"Weight06\",\"DietCode\",20)\n"
   ]
  },
  {
   "cell_type": "markdown",
   "id": "progressive-retrieval",
   "metadata": {
    "lines_to_next_cell": 0
   },
   "source": [
    "## Looking at the effect of diet on longevity across all strains and adjusting for strain effect"
   ]
  },
  {
   "cell_type": "code",
   "execution_count": 6,
   "id": "phantom-vault",
   "metadata": {
    "name": "dieteffect"
   },
   "outputs": [
    {
     "name": "stderr",
     "output_type": "stream",
     "text": [
      "`summarise()` regrouping output by 'DietCode' (override with `.groups` argument)\n",
      "\n",
      "`summarise()` regrouping output by 'DietCode' (override with `.groups` argument)\n",
      "\n"
     ]
    },
    {
     "name": "stdout",
     "output_type": "stream",
     "text": [
      "\n",
      " --- ANOVA --- \n",
      "         DietCode StrainNameCurrent         Residuals \n",
      "              4.7              29.5              65.8 \n",
      "\n",
      " --- LM --- \n",
      "\u001b[90m# A tibble: 2 x 5\u001b[39m\n",
      "  coefname    Estimate `Std. Error` `t value` `Pr(>|t|)`\n",
      "  \u001b[3m\u001b[90m<chr>\u001b[39m\u001b[23m          \u001b[3m\u001b[90m<dbl>\u001b[39m\u001b[23m        \u001b[3m\u001b[90m<dbl>\u001b[39m\u001b[23m     \u001b[3m\u001b[90m<dbl>\u001b[39m\u001b[23m      \u001b[3m\u001b[90m<dbl>\u001b[39m\u001b[23m\n",
      "\u001b[90m1\u001b[39m (Intercept)    709.         27.5      25.8   1.67\u001b[90me\u001b[39m\u001b[31m-116\u001b[39m\n",
      "\u001b[90m2\u001b[39m DietCodeHF     -\u001b[31m85\u001b[39m\u001b[31m.\u001b[39m\u001b[31m7\u001b[39m         8.97     -\u001b[31m9\u001b[39m\u001b[31m.\u001b[39m\u001b[31m56\u001b[39m  6.64\u001b[90me\u001b[39m\u001b[31m- 21\u001b[39m\n",
      "\n",
      " --- ANOVAX --- \n",
      "                  DietCode          StrainNameCurrent \n",
      "                       4.7                       29.5 \n",
      "DietCode:StrainNameCurrent                  Residuals \n",
      "                       6.2                       59.6 \n",
      "\n",
      " --- LMX --- \n",
      "\u001b[90m# A tibble: 2 x 5\u001b[39m\n",
      "  coefname    Estimate `Std. Error` `t value` `Pr(>|t|)`\n",
      "  \u001b[3m\u001b[90m<chr>\u001b[39m\u001b[23m          \u001b[3m\u001b[90m<dbl>\u001b[39m\u001b[23m        \u001b[3m\u001b[90m<dbl>\u001b[39m\u001b[23m     \u001b[3m\u001b[90m<dbl>\u001b[39m\u001b[23m      \u001b[3m\u001b[90m<dbl>\u001b[39m\u001b[23m\n",
      "\u001b[90m1\u001b[39m (Intercept)     728.         35.9     20.3    3.85\u001b[90me\u001b[39m\u001b[31m-78\u001b[39m\n",
      "\u001b[90m2\u001b[39m DietCodeHF     -\u001b[31m129\u001b[39m\u001b[31m.\u001b[39m         53.3     -\u001b[31m2\u001b[39m\u001b[31m.\u001b[39m\u001b[31m41\u001b[39m   1.60\u001b[90me\u001b[39m\u001b[31m- 2\u001b[39m\n",
      "\n",
      " --- LMM --- \n",
      "            Estimate Std. Error  t value\n",
      "(Intercept) 694.4516   16.09812 43.13868\n",
      "DietCodeHF  -86.6381   12.92065 -6.70540\n",
      "\n",
      " --- Meta --- \n",
      "            estimate       se      zval        pval     ci.lb     ci.ub\n",
      "DietCodeHF -88.77345 14.26862 -6.221588 4.92148e-10 -116.7394 -60.80748\n"
     ]
    },
    {
     "data": {
      "text/plain": [
       "\n",
       "Random-Effects Model (k = 57; tau^2 estimator: REML)\n",
       "\n",
       "   logLik   deviance        AIC        BIC       AICc \n",
       "-340.8002   681.6004   685.6004   689.6511   685.8268   \n",
       "\n",
       "tau^2 (estimated amount of total heterogeneity): 7127.6115 (SE = 2149.5993)\n",
       "tau (square root of estimated tau^2 value):      84.4252\n",
       "I^2 (total heterogeneity / total variability):   65.96%\n",
       "H^2 (total variability / sampling variability):  2.94\n",
       "\n",
       "Test for Heterogeneity:\n",
       "Q(df = 56) = 176.7612, p-val < .0001\n",
       "\n",
       "Model Results:\n",
       "\n",
       "estimate       se     zval    pval      ci.lb     ci.ub \n",
       "-88.7735  14.2686  -6.2216  <.0001  -116.7394  -60.8075  *** \n",
       "\n",
       "---\n",
       "Signif. codes:  0 ‘***’ 0.001 ‘**’ 0.01 ‘*’ 0.05 ‘.’ 0.1 ‘ ’ 1\n"
      ]
     },
     "metadata": {},
     "output_type": "display_data"
    }
   ],
   "source": [
    "out1 <- summarizeByDiet(agingbxd,\"AgeAtDeath\")\n",
    "summary(out1$outMeta)"
   ]
  },
  {
   "cell_type": "markdown",
   "id": "necessary-battle",
   "metadata": {
    "lines_to_next_cell": 0
   },
   "source": [
    "## Age at entry into colony and start of HFD is not associated with longevity adjusting for strain effect"
   ]
  },
  {
   "cell_type": "code",
   "execution_count": 7,
   "id": "spoken-stock",
   "metadata": {
    "name": "entryage"
   },
   "outputs": [
    {
     "name": "stderr",
     "output_type": "stream",
     "text": [
      "`summarise()` ungrouping output (override with `.groups` argument)\n",
      "\n",
      "Warning message in rma.uni(yi = strainByCov$estimate, sei = strainByCov$std.error):\n",
      "“Studies with NAs omitted from model fitting.”\n"
     ]
    },
    {
     "name": "stdout",
     "output_type": "stream",
     "text": [
      "\n",
      " --- ANOVA --- \n",
      "EntryAgeInColony        Residuals \n",
      "             0.5             99.5 \n",
      "\n",
      " --- LM --- \n",
      "\u001b[90m# A tibble: 2 x 5\u001b[39m\n",
      "  coefname         Estimate `Std. Error` `t value` `Pr(>|t|)`\n",
      "  \u001b[3m\u001b[90m<chr>\u001b[39m\u001b[23m               \u001b[3m\u001b[90m<dbl>\u001b[39m\u001b[23m        \u001b[3m\u001b[90m<dbl>\u001b[39m\u001b[23m     \u001b[3m\u001b[90m<dbl>\u001b[39m\u001b[23m      \u001b[3m\u001b[90m<dbl>\u001b[39m\u001b[23m\n",
      "\u001b[90m1\u001b[39m (Intercept)       627.          9.37       66.9     0      \n",
      "\u001b[90m2\u001b[39m EntryAgeInColony    0.139       0.053\u001b[4m2\u001b[24m      2.62    0.008\u001b[4m8\u001b[24m\u001b[4m1\u001b[24m\n",
      "\n",
      " --- LMM --- \n",
      "                    Estimate  Std. Error  t value\n",
      "(Intercept)      626.9636317 14.45178287 43.38313\n",
      "EntryAgeInColony   0.1623257  0.05147999  3.15318\n",
      "\n",
      " --- Meta --- \n",
      "                  estimate        se     zval      pval       ci.lb     ci.ub\n",
      "EntryAgeInColony 0.1216479 0.1004456 1.211082 0.2258641 -0.07522197 0.3185177\n"
     ]
    }
   ],
   "source": [
    "out2 <- summarizeByCovariate(agingbxd,\"AgeAtDeath\",\"EntryAgeInColony\")"
   ]
  },
  {
   "cell_type": "markdown",
   "id": "collected-marking",
   "metadata": {
    "lines_to_next_cell": 0
   },
   "source": [
    "## Looking at the effect of initial weight at entry into aging colony on longevity adjusting for age at entry into colony"
   ]
  },
  {
   "cell_type": "code",
   "execution_count": 8,
   "id": "grand-confirmation",
   "metadata": {
    "name": "initialweighteffect"
   },
   "outputs": [
    {
     "name": "stderr",
     "output_type": "stream",
     "text": [
      "`summarise()` ungrouping output (override with `.groups` argument)\n",
      "\n"
     ]
    },
    {
     "name": "stdout",
     "output_type": "stream",
     "text": [
      "\n",
      " --- ANOVA --- \n",
      " Weight00Baseline  EntryAgeInColony StrainNameCurrent         Residuals \n",
      "              1.3               2.2              26.6              70.0 \n",
      "\n",
      " --- LM --- \n",
      "\u001b[90m# A tibble: 3 x 5\u001b[39m\n",
      "  coefname         Estimate `Std. Error` `t value` `Pr(>|t|)`\n",
      "  \u001b[3m\u001b[90m<chr>\u001b[39m\u001b[23m               \u001b[3m\u001b[90m<dbl>\u001b[39m\u001b[23m        \u001b[3m\u001b[90m<dbl>\u001b[39m\u001b[23m     \u001b[3m\u001b[90m<dbl>\u001b[39m\u001b[23m      \u001b[3m\u001b[90m<dbl>\u001b[39m\u001b[23m\n",
      "\u001b[90m1\u001b[39m (Intercept)       909.         64.1        14.2    2.30\u001b[90me\u001b[39m\u001b[31m-42\u001b[39m\n",
      "\u001b[90m2\u001b[39m Weight00Baseline   -\u001b[31m5\u001b[39m\u001b[31m.\u001b[39m\u001b[31m0\u001b[39m\u001b[31m5\u001b[39m        1.20       -\u001b[31m4\u001b[39m\u001b[31m.\u001b[39m\u001b[31m19\u001b[39m   2.94\u001b[90me\u001b[39m\u001b[31m- 5\u001b[39m\n",
      "\u001b[90m3\u001b[39m EntryAgeInColony    0.278       0.058\u001b[4m6\u001b[24m      4.75   2.31\u001b[90me\u001b[39m\u001b[31m- 6\u001b[39m\n",
      "\n",
      " --- LMM --- \n",
      "                    Estimate  Std. Error   t value\n",
      "(Intercept)      724.8897892 26.83498304 27.012866\n",
      "Weight00Baseline  -5.0569494  1.15236191 -4.388334\n",
      "EntryAgeInColony   0.2818145  0.05751683  4.899688\n",
      "\n",
      " --- Meta --- \n",
      "                  estimate       se      zval         pval     ci.lb     ci.ub\n",
      "Weight00Baseline -5.937299 1.732012 -3.427977 0.0006080964 -9.331981 -2.542617\n"
     ]
    },
    {
     "data": {
      "text/plain": [
       "\n",
       "Random-Effects Model (k = 66; tau^2 estimator: REML)\n",
       "\n",
       "   logLik   deviance        AIC        BIC       AICc \n",
       "-288.0194   576.0388   580.0388   584.3875   580.2323   \n",
       "\n",
       "tau^2 (estimated amount of total heterogeneity): 37.8894 (SE = 26.6341)\n",
       "tau (square root of estimated tau^2 value):      6.1554\n",
       "I^2 (total heterogeneity / total variability):   24.49%\n",
       "H^2 (total variability / sampling variability):  1.32\n",
       "\n",
       "Test for Heterogeneity:\n",
       "Q(df = 65) = 91.1555, p-val = 0.0179\n",
       "\n",
       "Model Results:\n",
       "\n",
       "estimate      se     zval    pval    ci.lb    ci.ub \n",
       " -5.9373  1.7320  -3.4280  0.0006  -9.3320  -2.5426  *** \n",
       "\n",
       "---\n",
       "Signif. codes:  0 ‘***’ 0.001 ‘**’ 0.01 ‘*’ 0.05 ‘.’ 0.1 ‘ ’ 1\n"
      ]
     },
     "metadata": {},
     "output_type": "display_data"
    }
   ],
   "source": [
    "out3 <- summarizeByCovariate2(agingbxd,\"AgeAtDeath\",\"Weight00Baseline\",\"EntryAgeInColony\",4)\n",
    "summary(out3$outMeta)"
   ]
  },
  {
   "cell_type": "markdown",
   "id": "unknown-profit",
   "metadata": {
    "lines_to_next_cell": 0
   },
   "source": [
    "## Looking at the effect of body weight at 100 days on both diets on longevity adjusting for strain effect"
   ]
  },
  {
   "cell_type": "code",
   "execution_count": 9,
   "id": "tamil-following",
   "metadata": {
    "name": "earlyweighteffect"
   },
   "outputs": [
    {
     "name": "stderr",
     "output_type": "stream",
     "text": [
      "`summarise()` ungrouping output (override with `.groups` argument)\n",
      "\n",
      "Warning message in rma.uni(yi = strainByCov$estimate, sei = strainByCov$std.error):\n",
      "“Studies with NAs omitted from model fitting.”\n"
     ]
    },
    {
     "name": "stdout",
     "output_type": "stream",
     "text": [
      "\n",
      " --- ANOVA --- \n",
      " Weight02 Residuals \n",
      "      5.4      94.6 \n",
      "\n",
      " --- LM --- \n",
      "\u001b[90m# A tibble: 2 x 5\u001b[39m\n",
      "  coefname    Estimate `Std. Error` `t value` `Pr(>|t|)`\n",
      "  \u001b[3m\u001b[90m<chr>\u001b[39m\u001b[23m          \u001b[3m\u001b[90m<dbl>\u001b[39m\u001b[23m        \u001b[3m\u001b[90m<dbl>\u001b[39m\u001b[23m     \u001b[3m\u001b[90m<dbl>\u001b[39m\u001b[23m      \u001b[3m\u001b[90m<dbl>\u001b[39m\u001b[23m\n",
      "\u001b[90m1\u001b[39m (Intercept)   795.         16.7       47.7   1.95\u001b[90me\u001b[39m\u001b[31m-284\u001b[39m\n",
      "\u001b[90m2\u001b[39m Weight02       -\u001b[31m3\u001b[39m\u001b[31m.\u001b[39m\u001b[31m93\u001b[39m        0.463     -\u001b[31m8\u001b[39m\u001b[31m.\u001b[39m\u001b[31m49\u001b[39m  5.74\u001b[90me\u001b[39m\u001b[31m- 17\u001b[39m\n",
      "\n",
      " --- LMM --- \n",
      "             Estimate Std. Error   t value\n",
      "(Intercept) 796.33768 19.4085791 41.030190\n",
      "Weight02     -3.96807  0.4570734 -8.681472\n",
      "\n",
      " --- Meta --- \n",
      "          estimate        se     zval         pval     ci.lb     ci.ub\n",
      "Weight02 -4.419632 0.6226359 -7.09826 1.263371e-12 -5.639976 -3.199288\n"
     ]
    },
    {
     "data": {
      "text/plain": [
       "\n",
       "Random-Effects Model (k = 69; tau^2 estimator: REML)\n",
       "\n",
       "   logLik   deviance        AIC        BIC       AICc \n",
       "-228.9662   457.9325   461.9325   466.3715   462.1171   \n",
       "\n",
       "tau^2 (estimated amount of total heterogeneity): 9.7758 (SE = 4.1470)\n",
       "tau (square root of estimated tau^2 value):      3.1266\n",
       "I^2 (total heterogeneity / total variability):   41.90%\n",
       "H^2 (total variability / sampling variability):  1.72\n",
       "\n",
       "Test for Heterogeneity:\n",
       "Q(df = 68) = 134.6758, p-val < .0001\n",
       "\n",
       "Model Results:\n",
       "\n",
       "estimate      se     zval    pval    ci.lb    ci.ub \n",
       " -4.4196  0.6226  -7.0983  <.0001  -5.6400  -3.1993  *** \n",
       "\n",
       "---\n",
       "Signif. codes:  0 ‘***’ 0.001 ‘**’ 0.01 ‘*’ 0.05 ‘.’ 0.1 ‘ ’ 1\n"
      ]
     },
     "metadata": {},
     "output_type": "display_data"
    }
   ],
   "source": [
    "out4 <- summarizeByCovariate(agingbxd,\"AgeAtDeath\",\"Weight02\")\n",
    "summary(out4$outMeta)"
   ]
  },
  {
   "cell_type": "markdown",
   "id": "arranged-scene",
   "metadata": {
    "lines_to_next_cell": 0
   },
   "source": [
    "## Looking at the effect of body weight gain on longevity at 100 days on HFD "
   ]
  },
  {
   "cell_type": "code",
   "execution_count": 10,
   "id": "relevant-toddler",
   "metadata": {
    "name": "earlyHFDwtgain effect"
   },
   "outputs": [
    {
     "name": "stderr",
     "output_type": "stream",
     "text": [
      "`summarise()` ungrouping output (override with `.groups` argument)\n",
      "\n"
     ]
    },
    {
     "name": "stdout",
     "output_type": "stream",
     "text": [
      "\n",
      " --- ANOVA --- \n",
      "WeightGainPost100days             Residuals \n",
      "                  0.7                  99.3 \n",
      "\n",
      " --- LM --- \n",
      "\u001b[90m# A tibble: 2 x 5\u001b[39m\n",
      "  coefname              Estimate `Std. Error` `t value` `Pr(>|t|)`\n",
      "  \u001b[3m\u001b[90m<chr>\u001b[39m\u001b[23m                    \u001b[3m\u001b[90m<dbl>\u001b[39m\u001b[23m        \u001b[3m\u001b[90m<dbl>\u001b[39m\u001b[23m     \u001b[3m\u001b[90m<dbl>\u001b[39m\u001b[23m      \u001b[3m\u001b[90m<dbl>\u001b[39m\u001b[23m\n",
      "\u001b[90m1\u001b[39m (Intercept)             640.         17.8       35.9   7.09\u001b[90me\u001b[39m\u001b[31m-132\u001b[39m\n",
      "\u001b[90m2\u001b[39m WeightGainPost100days    -\u001b[31m1\u001b[39m\u001b[31m.\u001b[39m\u001b[31m56\u001b[39m        0.898     -\u001b[31m1\u001b[39m\u001b[31m.\u001b[39m\u001b[31m74\u001b[39m  8.26\u001b[90me\u001b[39m\u001b[31m-  2\u001b[39m\n",
      "\n",
      " --- LMM --- \n",
      "                         Estimate Std. Error    t value\n",
      "(Intercept)           611.4000983 25.4846136 23.9909503\n",
      "WeightGainPost100days  -0.2287731  0.9667132 -0.2366504\n",
      "\n",
      " --- Meta --- \n",
      "                        estimate       se       zval      pval     ci.lb\n",
      "WeightGainPost100days 0.06412785 1.271151 0.05044863 0.9597649 -2.427283\n",
      "                         ci.ub\n",
      "WeightGainPost100days 2.555539\n"
     ]
    },
    {
     "data": {
      "text/plain": [
       "\n",
       "Call:\n",
       "lm(formula = formula(paste(pheno, \"~\", cov)), data = newdata)\n",
       "\n",
       "Residuals:\n",
       "    Min      1Q  Median      3Q     Max \n",
       "-422.33 -104.11    9.66  104.38  457.80 \n",
       "\n",
       "Coefficients:\n",
       "                      Estimate Std. Error t value Pr(>|t|)    \n",
       "(Intercept)           639.9520    17.8428   35.87   <2e-16 ***\n",
       "WeightGainPost100days  -1.5625     0.8981   -1.74   0.0826 .  \n",
       "---\n",
       "Signif. codes:  0 ‘***’ 0.001 ‘**’ 0.01 ‘*’ 0.05 ‘.’ 0.1 ‘ ’ 1\n",
       "\n",
       "Residual standard error: 156.4 on 434 degrees of freedom\n",
       "  (13 observations deleted due to missingness)\n",
       "Multiple R-squared:  0.006926,\tAdjusted R-squared:  0.004638 \n",
       "F-statistic: 3.027 on 1 and 434 DF,  p-value: 0.0826\n"
      ]
     },
     "metadata": {},
     "output_type": "display_data"
    }
   ],
   "source": [
    "hfd <- subset(agingbxd, (agingbxd)$DietCode=='HF')\n",
    "out5 <- summarizeByCovariate(hfd,\"AgeAtDeath\",\"WeightGainPost100days\",10)\n",
    "summary(out5$outLM)"
   ]
  },
  {
   "cell_type": "markdown",
   "id": "baking-shooting",
   "metadata": {
    "lines_to_next_cell": 0
   },
   "source": [
    "## Looking at the effect of body weight on longevity at 400 days on CD "
   ]
  },
  {
   "cell_type": "code",
   "execution_count": 11,
   "id": "reduced-minority",
   "metadata": {
    "name": "lateCDwt effect"
   },
   "outputs": [
    {
     "name": "stderr",
     "output_type": "stream",
     "text": [
      "`summarise()` ungrouping output (override with `.groups` argument)\n",
      "\n",
      "Warning message in rma.uni(yi = strainByCov$estimate, sei = strainByCov$std.error):\n",
      "“Studies with NAs omitted from model fitting.”\n"
     ]
    },
    {
     "name": "stdout",
     "output_type": "stream",
     "text": [
      "\n",
      " --- ANOVA --- \n",
      " Weight06 Residuals \n",
      "      3.1      96.9 \n",
      "\n",
      " --- LM --- \n",
      "\u001b[90m# A tibble: 2 x 5\u001b[39m\n",
      "  coefname    Estimate `Std. Error` `t value` `Pr(>|t|)`\n",
      "  \u001b[3m\u001b[90m<chr>\u001b[39m\u001b[23m          \u001b[3m\u001b[90m<dbl>\u001b[39m\u001b[23m        \u001b[3m\u001b[90m<dbl>\u001b[39m\u001b[23m     \u001b[3m\u001b[90m<dbl>\u001b[39m\u001b[23m      \u001b[3m\u001b[90m<dbl>\u001b[39m\u001b[23m\n",
      "\u001b[90m1\u001b[39m (Intercept)   846.         31.0       27.3    2.67\u001b[90me\u001b[39m\u001b[31m-73\u001b[39m\n",
      "\u001b[90m2\u001b[39m Weight06       -\u001b[31m2\u001b[39m\u001b[31m.\u001b[39m\u001b[31m64\u001b[39m        0.978     -\u001b[31m2\u001b[39m\u001b[31m.\u001b[39m\u001b[31m70\u001b[39m   7.55\u001b[90me\u001b[39m\u001b[31m- 3\u001b[39m\n",
      "\n",
      " --- LMM --- \n",
      "              Estimate Std. Error   t value\n",
      "(Intercept) 824.810122  35.860127 23.000759\n",
      "Weight06     -2.022995   1.104843 -1.831024\n",
      "\n",
      " --- Meta --- \n",
      "         estimate       se       zval      pval     ci.lb    ci.ub\n",
      "Weight06 0.036554 1.703265 0.02146113 0.9828778 -3.301784 3.374892\n"
     ]
    },
    {
     "data": {
      "text/plain": [
       "\n",
       "Random-Effects Model (k = 24; tau^2 estimator: REML)\n",
       "\n",
       "  logLik  deviance       AIC       BIC      AICc \n",
       "-86.2925  172.5850  176.5850  178.8559  177.1850   \n",
       "\n",
       "tau^2 (estimated amount of total heterogeneity): 12.4293 (SE = 16.3997)\n",
       "tau (square root of estimated tau^2 value):      3.5255\n",
       "I^2 (total heterogeneity / total variability):   22.70%\n",
       "H^2 (total variability / sampling variability):  1.29\n",
       "\n",
       "Test for Heterogeneity:\n",
       "Q(df = 23) = 33.4536, p-val = 0.0735\n",
       "\n",
       "Model Results:\n",
       "\n",
       "estimate      se    zval    pval    ci.lb   ci.ub \n",
       "  0.0366  1.7033  0.0215  0.9829  -3.3018  3.3749    \n",
       "\n",
       "---\n",
       "Signif. codes:  0 ‘***’ 0.001 ‘**’ 0.01 ‘*’ 0.05 ‘.’ 0.1 ‘ ’ 1\n"
      ]
     },
     "metadata": {},
     "output_type": "display_data"
    }
   ],
   "source": [
    "cd <- subset(agingbxd, (agingbxd)$DietCode=='CD')\n",
    "out6 <- summarizeByCovariate(cd,\"AgeAtDeath\",\"Weight06\", 10)\n",
    "summary(out6$outMeta)"
   ]
  },
  {
   "cell_type": "markdown",
   "id": "certified-commitment",
   "metadata": {
    "lines_to_next_cell": 0
   },
   "source": [
    "## Looking at the effect of body weight on longevity at 400 days on HFD "
   ]
  },
  {
   "cell_type": "code",
   "execution_count": 12,
   "id": "medieval-morocco",
   "metadata": {
    "name": "lateHFDwt effect"
   },
   "outputs": [
    {
     "name": "stderr",
     "output_type": "stream",
     "text": [
      "`summarise()` ungrouping output (override with `.groups` argument)\n",
      "\n",
      "Warning message in rma.uni(yi = strainByCov$estimate, sei = strainByCov$std.error):\n",
      "“Studies with NAs omitted from model fitting.”\n"
     ]
    },
    {
     "name": "stdout",
     "output_type": "stream",
     "text": [
      "\n",
      " --- ANOVA --- \n",
      " Weight06 Residuals \n",
      "      1.1      98.9 \n",
      "\n",
      " --- LM --- \n",
      "\u001b[90m# A tibble: 2 x 5\u001b[39m\n",
      "  coefname    Estimate `Std. Error` `t value` `Pr(>|t|)`\n",
      "  \u001b[3m\u001b[90m<chr>\u001b[39m\u001b[23m          \u001b[3m\u001b[90m<dbl>\u001b[39m\u001b[23m        \u001b[3m\u001b[90m<dbl>\u001b[39m\u001b[23m     \u001b[3m\u001b[90m<dbl>\u001b[39m\u001b[23m      \u001b[3m\u001b[90m<dbl>\u001b[39m\u001b[23m\n",
      "\u001b[90m1\u001b[39m (Intercept)  736.          27.8       26.5    4.33\u001b[90me\u001b[39m\u001b[31m-75\u001b[39m\n",
      "\u001b[90m2\u001b[39m Weight06      -\u001b[31m0\u001b[39m\u001b[31m.\u001b[39m\u001b[31m828\u001b[39m        0.498     -\u001b[31m1\u001b[39m\u001b[31m.\u001b[39m\u001b[31m66\u001b[39m   9.77\u001b[90me\u001b[39m\u001b[31m- 2\u001b[39m\n",
      "\n",
      " --- LMM --- \n",
      "               Estimate Std. Error    t value\n",
      "(Intercept) 707.2942440 31.4338502 22.5010375\n",
      "Weight06     -0.4456813  0.5187318 -0.8591747\n",
      "\n",
      " --- Meta --- \n",
      "           estimate        se      zval      pval     ci.lb   ci.ub\n",
      "Weight06 -0.2216731 0.4586988 -0.483265 0.6289076 -1.120706 0.67736\n"
     ]
    },
    {
     "data": {
      "text/plain": [
       "\n",
       "Random-Effects Model (k = 24; tau^2 estimator: REML)\n",
       "\n",
       "  logLik  deviance       AIC       BIC      AICc \n",
       "-59.2258  118.4516  122.4516  124.7226  123.0516   \n",
       "\n",
       "tau^2 (estimated amount of total heterogeneity): 0.0000 (SE = 1.0443)\n",
       "tau (square root of estimated tau^2 value):      0.0012\n",
       "I^2 (total heterogeneity / total variability):   0.00%\n",
       "H^2 (total variability / sampling variability):  1.00\n",
       "\n",
       "Test for Heterogeneity:\n",
       "Q(df = 23) = 25.8725, p-val = 0.3069\n",
       "\n",
       "Model Results:\n",
       "\n",
       "estimate      se     zval    pval    ci.lb   ci.ub \n",
       " -0.2217  0.4587  -0.4833  0.6289  -1.1207  0.6774    \n",
       "\n",
       "---\n",
       "Signif. codes:  0 ‘***’ 0.001 ‘**’ 0.01 ‘*’ 0.05 ‘.’ 0.1 ‘ ’ 1\n"
      ]
     },
     "metadata": {},
     "output_type": "display_data"
    }
   ],
   "source": [
    "hfd <- subset(agingbxd, (agingbxd)$DietCode=='HF')\n",
    "out7 <- summarizeByCovariate(hfd,\"AgeAtDeath\",\"Weight06\", 11)\n",
    "summary(out7$outMeta)"
   ]
  },
  {
   "cell_type": "markdown",
   "id": "romantic-check",
   "metadata": {
    "lines_to_next_cell": 0
   },
   "source": [
    "## Looking at the effect of body weight gain on longevity at 400 days on HFD"
   ]
  },
  {
   "cell_type": "code",
   "execution_count": 13,
   "id": "mobile-reminder",
   "metadata": {
    "name": "lateHFDwtgain effect"
   },
   "outputs": [
    {
     "name": "stderr",
     "output_type": "stream",
     "text": [
      "`summarise()` ungrouping output (override with `.groups` argument)\n",
      "\n",
      "Warning message in rma.uni(yi = strainByCov$estimate, sei = strainByCov$std.error):\n",
      "“Studies with NAs omitted from model fitting.”\n"
     ]
    },
    {
     "name": "stdout",
     "output_type": "stream",
     "text": [
      "\n",
      " --- ANOVA --- \n",
      "WeightGainPost400days             Residuals \n",
      "                  0.5                  99.5 \n",
      "\n",
      " --- LM --- \n",
      "\u001b[90m# A tibble: 2 x 5\u001b[39m\n",
      "  coefname              Estimate `Std. Error` `t value` `Pr(>|t|)`\n",
      "  \u001b[3m\u001b[90m<chr>\u001b[39m\u001b[23m                    \u001b[3m\u001b[90m<dbl>\u001b[39m\u001b[23m        \u001b[3m\u001b[90m<dbl>\u001b[39m\u001b[23m     \u001b[3m\u001b[90m<dbl>\u001b[39m\u001b[23m      \u001b[3m\u001b[90m<dbl>\u001b[39m\u001b[23m\n",
      "\u001b[90m1\u001b[39m (Intercept)            709.          16.7       42.5   3.51\u001b[90me\u001b[39m\u001b[31m-117\u001b[39m\n",
      "\u001b[90m2\u001b[39m WeightGainPost400days   -\u001b[31m0\u001b[39m\u001b[31m.\u001b[39m\u001b[31m547\u001b[39m        0.481     -\u001b[31m1\u001b[39m\u001b[31m.\u001b[39m\u001b[31m14\u001b[39m  2.56\u001b[90me\u001b[39m\u001b[31m-  1\u001b[39m\n",
      "\n",
      " --- LMM --- \n",
      "                         Estimate Std. Error   t value\n",
      "(Intercept)           701.0214606 21.0762834 33.261152\n",
      "WeightGainPost400days  -0.5583583  0.4890035 -1.141829\n",
      "\n",
      " --- Meta --- \n",
      "                        estimate        se      zval      pval     ci.lb\n",
      "WeightGainPost400days -0.4993763 0.4400145 -1.134909 0.2564135 -1.361789\n",
      "                          ci.ub\n",
      "WeightGainPost400days 0.3630362\n"
     ]
    },
    {
     "data": {
      "text/plain": [
       "\n",
       "Random-Effects Model (k = 24; tau^2 estimator: REML)\n",
       "\n",
       "  logLik  deviance       AIC       BIC      AICc \n",
       "-56.6331  113.2661  117.2661  119.5371  117.8661   \n",
       "\n",
       "tau^2 (estimated amount of total heterogeneity): 0.0000 (SE = 1.0143)\n",
       "tau (square root of estimated tau^2 value):      0.0014\n",
       "I^2 (total heterogeneity / total variability):   0.00%\n",
       "H^2 (total variability / sampling variability):  1.00\n",
       "\n",
       "Test for Heterogeneity:\n",
       "Q(df = 23) = 25.0034, p-val = 0.3501\n",
       "\n",
       "Model Results:\n",
       "\n",
       "estimate      se     zval    pval    ci.lb   ci.ub \n",
       " -0.4994  0.4400  -1.1349  0.2564  -1.3618  0.3630    \n",
       "\n",
       "---\n",
       "Signif. codes:  0 ‘***’ 0.001 ‘**’ 0.01 ‘*’ 0.05 ‘.’ 0.1 ‘ ’ 1\n"
      ]
     },
     "metadata": {},
     "output_type": "display_data"
    }
   ],
   "source": [
    "hfd <- subset(agingbxd, (agingbxd)$DietCode=='HF')\n",
    "out8 <- summarizeByCovariate(hfd,\"AgeAtDeath\",\"WeightGainPost400days\",11)\n",
    "summary(out8$outMeta)"
   ]
  },
  {
   "cell_type": "markdown",
   "id": "satisfied-material",
   "metadata": {
    "lines_to_next_cell": 0
   },
   "source": [
    "## Looking at the effect of diet on body weight at 400 days adjusting for strain effect"
   ]
  },
  {
   "cell_type": "code",
   "execution_count": 14,
   "id": "plastic-rough",
   "metadata": {
    "name": "dietwteffect"
   },
   "outputs": [
    {
     "name": "stderr",
     "output_type": "stream",
     "text": [
      "`summarise()` regrouping output by 'DietCode' (override with `.groups` argument)\n",
      "\n",
      "`summarise()` regrouping output by 'DietCode' (override with `.groups` argument)\n",
      "\n",
      "Warning message in rma.uni(measure = \"MD\", m1i = mean_HF, m2i = mean_CD, sd1i = sd_HF, :\n",
      "“Studies with NAs omitted from model fitting.”\n"
     ]
    },
    {
     "name": "stdout",
     "output_type": "stream",
     "text": [
      "\n",
      " --- ANOVA --- \n",
      "         DietCode StrainNameCurrent         Residuals \n",
      "             45.0              19.1              35.9 \n",
      "\n",
      " --- LM --- \n",
      "\u001b[90m# A tibble: 2 x 5\u001b[39m\n",
      "  coefname    Estimate `Std. Error` `t value` `Pr(>|t|)`\n",
      "  \u001b[3m\u001b[90m<chr>\u001b[39m\u001b[23m          \u001b[3m\u001b[90m<dbl>\u001b[39m\u001b[23m        \u001b[3m\u001b[90m<dbl>\u001b[39m\u001b[23m     \u001b[3m\u001b[90m<dbl>\u001b[39m\u001b[23m      \u001b[3m\u001b[90m<dbl>\u001b[39m\u001b[23m\n",
      "\u001b[90m1\u001b[39m (Intercept)     36.6        2.12       17.3  9.99\u001b[90me\u001b[39m\u001b[31m- 57\u001b[39m\n",
      "\u001b[90m2\u001b[39m DietCodeHF      22.4        0.740      30.2  5.87\u001b[90me\u001b[39m\u001b[31m-133\u001b[39m\n",
      "\n",
      " --- ANOVAX --- \n",
      "                  DietCode          StrainNameCurrent \n",
      "                      45.0                       19.1 \n",
      "DietCode:StrainNameCurrent                  Residuals \n",
      "                      10.3                       25.5 \n",
      "\n",
      " --- LMX --- \n",
      "\u001b[90m# A tibble: 2 x 5\u001b[39m\n",
      "  coefname    Estimate `Std. Error` `t value` `Pr(>|t|)`\n",
      "  \u001b[3m\u001b[90m<chr>\u001b[39m\u001b[23m          \u001b[3m\u001b[90m<dbl>\u001b[39m\u001b[23m        \u001b[3m\u001b[90m<dbl>\u001b[39m\u001b[23m     \u001b[3m\u001b[90m<dbl>\u001b[39m\u001b[23m      \u001b[3m\u001b[90m<dbl>\u001b[39m\u001b[23m\n",
      "\u001b[90m1\u001b[39m (Intercept)     29.4         2.45      12.0   1.80\u001b[90me\u001b[39m\u001b[31m-30\u001b[39m\n",
      "\u001b[90m2\u001b[39m DietCodeHF      38.6         3.69      10.5   6.38\u001b[90me\u001b[39m\u001b[31m-24\u001b[39m\n",
      "\n",
      " --- LMM --- \n",
      "            Estimate Std. Error t value\n",
      "(Intercept) 29.27114  0.8871682 32.9939\n",
      "DietCodeHF  22.18526  1.5052074 14.7390\n",
      "\n",
      " --- Meta --- \n",
      "           estimate       se     zval         pval    ci.lb    ci.ub\n",
      "DietCodeHF 22.25086 1.471582 15.12036 1.188835e-51 19.36661 25.13511\n"
     ]
    },
    {
     "data": {
      "text/plain": [
       "\n",
       "Random-Effects Model (k = 54; tau^2 estimator: REML)\n",
       "\n",
       "   logLik   deviance        AIC        BIC       AICc \n",
       "-201.6873   403.3747   407.3747   411.3153   407.6147   \n",
       "\n",
       "tau^2 (estimated amount of total heterogeneity): 94.1599 (SE = 22.4653)\n",
       "tau (square root of estimated tau^2 value):      9.7036\n",
       "I^2 (total heterogeneity / total variability):   87.35%\n",
       "H^2 (total variability / sampling variability):  7.91\n",
       "\n",
       "Test for Heterogeneity:\n",
       "Q(df = 53) = 456.7811, p-val < .0001\n",
       "\n",
       "Model Results:\n",
       "\n",
       "estimate      se     zval    pval    ci.lb    ci.ub \n",
       " 22.2509  1.4716  15.1204  <.0001  19.3666  25.1351  *** \n",
       "\n",
       "---\n",
       "Signif. codes:  0 ‘***’ 0.001 ‘**’ 0.01 ‘*’ 0.05 ‘.’ 0.1 ‘ ’ 1\n"
      ]
     },
     "metadata": {},
     "output_type": "display_data"
    }
   ],
   "source": [
    "out9 <- summarizeByDiet(agingbxd,\"Weight06\")\n",
    "summary(out9$outMeta)"
   ]
  },
  {
   "cell_type": "markdown",
   "id": "general-forum",
   "metadata": {
    "lines_to_next_cell": 0
   },
   "source": [
    "## Fat mass and Adiposity in harvested BXD females"
   ]
  },
  {
   "cell_type": "code",
   "execution_count": 15,
   "id": "rolled-medline",
   "metadata": {},
   "outputs": [
    {
     "data": {
      "text/html": [
       "<style>\n",
       ".list-inline {list-style: none; margin:0; padding: 0}\n",
       ".list-inline>li {display: inline-block}\n",
       ".list-inline>li:not(:last-child)::after {content: \"\\00b7\"; padding: 0 .5ex}\n",
       "</style>\n",
       "<ol class=list-inline><li>'EarTagNumberOriginal'</li><li>'EarTagNumberCurrent'</li><li>'IDCase'</li><li>'StrainNameCurrent'</li><li>'DietCode'</li><li>'Sex'</li><li>'DateOfBirth'</li><li>'DateOfDeath'</li><li>'CauseOfDeath'</li><li>'AgeAtDeath'</li><li>'WeightBody'</li><li>'WeightSubcutaneousWat'</li><li>'WeightPerirenalWat'</li><li>'WeightPerigonadalWat'</li><li>'Subq.Adiposity'</li><li>'Visceral.Fat.Mass'</li><li>'Visceral.Adiposity'</li><li>'Total.Fat.Mass'</li><li>'Total.Adiposity'</li></ol>\n"
      ],
      "text/latex": [
       "\\begin{enumerate*}\n",
       "\\item 'EarTagNumberOriginal'\n",
       "\\item 'EarTagNumberCurrent'\n",
       "\\item 'IDCase'\n",
       "\\item 'StrainNameCurrent'\n",
       "\\item 'DietCode'\n",
       "\\item 'Sex'\n",
       "\\item 'DateOfBirth'\n",
       "\\item 'DateOfDeath'\n",
       "\\item 'CauseOfDeath'\n",
       "\\item 'AgeAtDeath'\n",
       "\\item 'WeightBody'\n",
       "\\item 'WeightSubcutaneousWat'\n",
       "\\item 'WeightPerirenalWat'\n",
       "\\item 'WeightPerigonadalWat'\n",
       "\\item 'Subq.Adiposity'\n",
       "\\item 'Visceral.Fat.Mass'\n",
       "\\item 'Visceral.Adiposity'\n",
       "\\item 'Total.Fat.Mass'\n",
       "\\item 'Total.Adiposity'\n",
       "\\end{enumerate*}\n"
      ],
      "text/markdown": [
       "1. 'EarTagNumberOriginal'\n",
       "2. 'EarTagNumberCurrent'\n",
       "3. 'IDCase'\n",
       "4. 'StrainNameCurrent'\n",
       "5. 'DietCode'\n",
       "6. 'Sex'\n",
       "7. 'DateOfBirth'\n",
       "8. 'DateOfDeath'\n",
       "9. 'CauseOfDeath'\n",
       "10. 'AgeAtDeath'\n",
       "11. 'WeightBody'\n",
       "12. 'WeightSubcutaneousWat'\n",
       "13. 'WeightPerirenalWat'\n",
       "14. 'WeightPerigonadalWat'\n",
       "15. 'Subq.Adiposity'\n",
       "16. 'Visceral.Fat.Mass'\n",
       "17. 'Visceral.Adiposity'\n",
       "18. 'Total.Fat.Mass'\n",
       "19. 'Total.Adiposity'\n",
       "\n",
       "\n"
      ],
      "text/plain": [
       " [1] \"EarTagNumberOriginal\"  \"EarTagNumberCurrent\"   \"IDCase\"               \n",
       " [4] \"StrainNameCurrent\"     \"DietCode\"              \"Sex\"                  \n",
       " [7] \"DateOfBirth\"           \"DateOfDeath\"           \"CauseOfDeath\"         \n",
       "[10] \"AgeAtDeath\"            \"WeightBody\"            \"WeightSubcutaneousWat\"\n",
       "[13] \"WeightPerirenalWat\"    \"WeightPerigonadalWat\"  \"Subq.Adiposity\"       \n",
       "[16] \"Visceral.Fat.Mass\"     \"Visceral.Adiposity\"    \"Total.Fat.Mass\"       \n",
       "[19] \"Total.Adiposity\"      "
      ]
     },
     "metadata": {},
     "output_type": "display_data"
    }
   ],
   "source": [
    "BXDagingfat <- \"../data/AgingBXDharvest_FatMass.csv\"\n",
    "agingbxdfat <- read.csv(BXDagingfat)\n",
    "names(agingbxdfat)"
   ]
  },
  {
   "cell_type": "markdown",
   "id": "present-running",
   "metadata": {
    "lines_to_next_cell": 0
   },
   "source": [
    "## Looking at the effect of adiposity in harvested females on longevity adjusting for diet and strain effect"
   ]
  },
  {
   "cell_type": "code",
   "execution_count": 16,
   "id": "reduced-death",
   "metadata": {
    "name": "fateffect"
   },
   "outputs": [
    {
     "name": "stderr",
     "output_type": "stream",
     "text": [
      "`summarise()` ungrouping output (override with `.groups` argument)\n",
      "\n",
      "boundary (singular) fit: see ?isSingular\n",
      "\n"
     ]
    },
    {
     "name": "stdout",
     "output_type": "stream",
     "text": [
      "\n",
      " --- ANOVA --- \n",
      "  Total.Adiposity          DietCode StrainNameCurrent         Residuals \n",
      "              0.1               1.4               4.8              93.7 \n",
      "\n",
      " --- LM --- \n",
      "\u001b[90m# A tibble: 3 x 5\u001b[39m\n",
      "  coefname        Estimate `Std. Error` `t value` `Pr(>|t|)`\n",
      "  \u001b[3m\u001b[90m<chr>\u001b[39m\u001b[23m              \u001b[3m\u001b[90m<dbl>\u001b[39m\u001b[23m        \u001b[3m\u001b[90m<dbl>\u001b[39m\u001b[23m     \u001b[3m\u001b[90m<dbl>\u001b[39m\u001b[23m      \u001b[3m\u001b[90m<dbl>\u001b[39m\u001b[23m\n",
      "\u001b[90m1\u001b[39m (Intercept)       459.          45.6      10.1    2.80\u001b[90me\u001b[39m\u001b[31m-21\u001b[39m\n",
      "\u001b[90m2\u001b[39m Total.Adiposity     4.56         1.89      2.41   1.63\u001b[90me\u001b[39m\u001b[31m- 2\u001b[39m\n",
      "\u001b[90m3\u001b[39m DietCodeHF        -\u001b[31m74\u001b[39m\u001b[31m.\u001b[39m\u001b[31m7\u001b[39m         26.6      -\u001b[31m2\u001b[39m\u001b[31m.\u001b[39m\u001b[31m81\u001b[39m   5.28\u001b[90me\u001b[39m\u001b[31m- 3\u001b[39m\n",
      "\n",
      " --- LMM --- \n",
      "                  Estimate Std. Error   t value\n",
      "(Intercept)     431.839889  14.789795 29.198505\n",
      "Total.Adiposity   3.486771   1.638186  2.128434\n",
      "DietCodeHF      -58.676527  24.427689 -2.402050\n",
      "\n",
      " --- Meta --- \n",
      "                estimate       se     zval       pval     ci.lb    ci.ub\n",
      "Total.Adiposity 6.419434 3.088703 2.078359 0.03767628 0.3656878 12.47318\n"
     ]
    },
    {
     "data": {
      "text/plain": [
       "\n",
       "Random-Effects Model (k = 25; tau^2 estimator: REML)\n",
       "\n",
       "   logLik   deviance        AIC        BIC       AICc \n",
       "-100.2262   200.4523   204.4523   206.8084   205.0237   \n",
       "\n",
       "tau^2 (estimated amount of total heterogeneity): 119.2429 (SE = 65.2982)\n",
       "tau (square root of estimated tau^2 value):      10.9198\n",
       "I^2 (total heterogeneity / total variability):   59.21%\n",
       "H^2 (total variability / sampling variability):  2.45\n",
       "\n",
       "Test for Heterogeneity:\n",
       "Q(df = 24) = 55.1097, p-val = 0.0003\n",
       "\n",
       "Model Results:\n",
       "\n",
       "estimate      se    zval    pval   ci.lb    ci.ub \n",
       "  6.4194  3.0887  2.0784  0.0377  0.3657  12.4732  * \n",
       "\n",
       "---\n",
       "Signif. codes:  0 ‘***’ 0.001 ‘**’ 0.01 ‘*’ 0.05 ‘.’ 0.1 ‘ ’ 1\n"
      ]
     },
     "metadata": {},
     "output_type": "display_data"
    },
    {
     "name": "stderr",
     "output_type": "stream",
     "text": [
      "`summarise()` ungrouping output (override with `.groups` argument)\n",
      "\n",
      "boundary (singular) fit: see ?isSingular\n",
      "\n"
     ]
    },
    {
     "name": "stdout",
     "output_type": "stream",
     "text": [
      "\n",
      " --- ANOVA --- \n",
      "Visceral.Adiposity           DietCode  StrainNameCurrent          Residuals \n",
      "               0.0                0.8                4.9               94.3 \n",
      "\n",
      " --- LM --- \n",
      "\u001b[90m# A tibble: 3 x 5\u001b[39m\n",
      "  coefname           Estimate `Std. Error` `t value` `Pr(>|t|)`\n",
      "  \u001b[3m\u001b[90m<chr>\u001b[39m\u001b[23m                 \u001b[3m\u001b[90m<dbl>\u001b[39m\u001b[23m        \u001b[3m\u001b[90m<dbl>\u001b[39m\u001b[23m     \u001b[3m\u001b[90m<dbl>\u001b[39m\u001b[23m      \u001b[3m\u001b[90m<dbl>\u001b[39m\u001b[23m\n",
      "\u001b[90m1\u001b[39m (Intercept)          481.          44.6      10.8    7.12\u001b[90me\u001b[39m\u001b[31m-24\u001b[39m\n",
      "\u001b[90m2\u001b[39m Visceral.Adiposity     3.05         2.14      1.42   1.55\u001b[90me\u001b[39m\u001b[31m- 1\u001b[39m\n",
      "\u001b[90m3\u001b[39m DietCodeHF           -\u001b[31m54\u001b[39m\u001b[31m.\u001b[39m\u001b[31m8\u001b[39m         25.2      -\u001b[31m2\u001b[39m\u001b[31m.\u001b[39m\u001b[31m17\u001b[39m   3.04\u001b[90me\u001b[39m\u001b[31m- 2\u001b[39m\n",
      "\n",
      " --- LMM --- \n",
      "                    Estimate Std. Error   t value\n",
      "(Intercept)        442.37047  14.425398 30.666084\n",
      "Visceral.Adiposity   2.12952   1.881109  1.132055\n",
      "DietCodeHF         -42.67718  23.337439 -1.828700\n",
      "\n",
      " --- Meta --- \n",
      "                   estimate       se     zval       pval      ci.lb    ci.ub\n",
      "Visceral.Adiposity 5.827002 3.445333 1.691274 0.09078447 -0.9257261 12.57973\n"
     ]
    },
    {
     "data": {
      "text/plain": [
       "\n",
       "Random-Effects Model (k = 25; tau^2 estimator: REML)\n",
       "\n",
       "   logLik   deviance        AIC        BIC       AICc \n",
       "-103.0649   206.1299   210.1299   212.4860   210.7013   \n",
       "\n",
       "tau^2 (estimated amount of total heterogeneity): 141.7205 (SE = 80.9101)\n",
       "tau (square root of estimated tau^2 value):      11.9046\n",
       "I^2 (total heterogeneity / total variability):   53.97%\n",
       "H^2 (total variability / sampling variability):  2.17\n",
       "\n",
       "Test for Heterogeneity:\n",
       "Q(df = 24) = 49.6920, p-val = 0.0015\n",
       "\n",
       "Model Results:\n",
       "\n",
       "estimate      se    zval    pval    ci.lb    ci.ub \n",
       "  5.8270  3.4453  1.6913  0.0908  -0.9257  12.5797  . \n",
       "\n",
       "---\n",
       "Signif. codes:  0 ‘***’ 0.001 ‘**’ 0.01 ‘*’ 0.05 ‘.’ 0.1 ‘ ’ 1\n"
      ]
     },
     "metadata": {},
     "output_type": "display_data"
    },
    {
     "name": "stderr",
     "output_type": "stream",
     "text": [
      "`summarise()` ungrouping output (override with `.groups` argument)\n",
      "\n",
      "boundary (singular) fit: see ?isSingular\n",
      "\n"
     ]
    },
    {
     "name": "stdout",
     "output_type": "stream",
     "text": [
      "\n",
      " --- ANOVA --- \n",
      "   Subq.Adiposity          DietCode StrainNameCurrent         Residuals \n",
      "              0.7               1.7               4.7              92.9 \n",
      "\n",
      " --- LM --- \n",
      "\u001b[90m# A tibble: 3 x 5\u001b[39m\n",
      "  coefname       Estimate `Std. Error` `t value` `Pr(>|t|)`\n",
      "  \u001b[3m\u001b[90m<chr>\u001b[39m\u001b[23m             \u001b[3m\u001b[90m<dbl>\u001b[39m\u001b[23m        \u001b[3m\u001b[90m<dbl>\u001b[39m\u001b[23m     \u001b[3m\u001b[90m<dbl>\u001b[39m\u001b[23m      \u001b[3m\u001b[90m<dbl>\u001b[39m\u001b[23m\n",
      "\u001b[90m1\u001b[39m (Intercept)       458.         45.1      10.2    1.20\u001b[90me\u001b[39m\u001b[31m-21\u001b[39m\n",
      "\u001b[90m2\u001b[39m Subq.Adiposity     13.6         4.86      2.79   5.53\u001b[90me\u001b[39m\u001b[31m- 3\u001b[39m\n",
      "\u001b[90m3\u001b[39m DietCodeHF        -\u001b[31m60\u001b[39m\u001b[31m.\u001b[39m\u001b[31m2\u001b[39m        21.3      -\u001b[31m2\u001b[39m\u001b[31m.\u001b[39m\u001b[31m83\u001b[39m   4.93\u001b[90me\u001b[39m\u001b[31m- 3\u001b[39m\n",
      "\n",
      " --- LMM --- \n",
      "                Estimate Std. Error   t value\n",
      "(Intercept)    437.87264  13.385179 32.713246\n",
      "Subq.Adiposity  12.63332   4.472387  2.824738\n",
      "DietCodeHF     -54.77498  20.731302 -2.642139\n",
      "\n",
      " --- Meta --- \n",
      "               estimate       se      zval      pval    ci.lb    ci.ub\n",
      "Subq.Adiposity 3.958852 10.57987 0.3741873 0.7082649 -16.7773 24.69501\n"
     ]
    },
    {
     "data": {
      "text/plain": [
       "\n",
       "Random-Effects Model (k = 25; tau^2 estimator: REML)\n",
       "\n",
       "   logLik   deviance        AIC        BIC       AICc \n",
       "-131.9817   263.9634   267.9634   270.3195   268.5348   \n",
       "\n",
       "tau^2 (estimated amount of total heterogeneity): 952.5662 (SE = 661.2892)\n",
       "tau (square root of estimated tau^2 value):      30.8637\n",
       "I^2 (total heterogeneity / total variability):   58.42%\n",
       "H^2 (total variability / sampling variability):  2.41\n",
       "\n",
       "Test for Heterogeneity:\n",
       "Q(df = 24) = 39.2043, p-val = 0.0260\n",
       "\n",
       "Model Results:\n",
       "\n",
       "estimate       se    zval    pval     ci.lb    ci.ub \n",
       "  3.9589  10.5799  0.3742  0.7083  -16.7773  24.6950    \n",
       "\n",
       "---\n",
       "Signif. codes:  0 ‘***’ 0.001 ‘**’ 0.01 ‘*’ 0.05 ‘.’ 0.1 ‘ ’ 1\n"
      ]
     },
     "metadata": {},
     "output_type": "display_data"
    }
   ],
   "source": [
    "out10 <- summarizeByCovariate2(agingbxdfat,\"AgeAtDeath\",\"Total.Adiposity\",\"DietCode\", 10)\n",
    "summary(out10$outMeta)\n",
    "out11 <- summarizeByCovariate2(agingbxdfat,\"AgeAtDeath\",\"Visceral.Adiposity\",\"DietCode\", 10)\n",
    "summary(out11$outMeta)\n",
    "out12 <- summarizeByCovariate2(agingbxdfat,\"AgeAtDeath\",\"Subq.Adiposity\",\"DietCode\", 10)\n",
    "summary(out12$outMeta)"
   ]
  },
  {
   "cell_type": "markdown",
   "id": "stunning-model",
   "metadata": {
    "lines_to_next_cell": 0
   },
   "source": [
    "## Blood metabolites in harvested BXD females"
   ]
  },
  {
   "cell_type": "code",
   "execution_count": 17,
   "id": "liable-contrary",
   "metadata": {},
   "outputs": [
    {
     "data": {
      "text/html": [
       "<style>\n",
       ".list-inline {list-style: none; margin:0; padding: 0}\n",
       ".list-inline>li {display: inline-block}\n",
       ".list-inline>li:not(:last-child)::after {content: \"\\00b7\"; padding: 0 .5ex}\n",
       "</style>\n",
       "<ol class=list-inline><li>'EarTagNumberOriginal'</li><li>'EarTagNumberCurrent'</li><li>'StrainNameCurrent'</li><li>'DietCode'</li><li>'Sex'</li><li>'AgeAtDeath'</li><li>'WeightBody'</li><li>'Glucose'</li><li>'TotalChol'</li><li>'Triglycerides'</li><li>'FFA'</li></ol>\n"
      ],
      "text/latex": [
       "\\begin{enumerate*}\n",
       "\\item 'EarTagNumberOriginal'\n",
       "\\item 'EarTagNumberCurrent'\n",
       "\\item 'StrainNameCurrent'\n",
       "\\item 'DietCode'\n",
       "\\item 'Sex'\n",
       "\\item 'AgeAtDeath'\n",
       "\\item 'WeightBody'\n",
       "\\item 'Glucose'\n",
       "\\item 'TotalChol'\n",
       "\\item 'Triglycerides'\n",
       "\\item 'FFA'\n",
       "\\end{enumerate*}\n"
      ],
      "text/markdown": [
       "1. 'EarTagNumberOriginal'\n",
       "2. 'EarTagNumberCurrent'\n",
       "3. 'StrainNameCurrent'\n",
       "4. 'DietCode'\n",
       "5. 'Sex'\n",
       "6. 'AgeAtDeath'\n",
       "7. 'WeightBody'\n",
       "8. 'Glucose'\n",
       "9. 'TotalChol'\n",
       "10. 'Triglycerides'\n",
       "11. 'FFA'\n",
       "\n",
       "\n"
      ],
      "text/plain": [
       " [1] \"EarTagNumberOriginal\" \"EarTagNumberCurrent\"  \"StrainNameCurrent\"   \n",
       " [4] \"DietCode\"             \"Sex\"                  \"AgeAtDeath\"          \n",
       " [7] \"WeightBody\"           \"Glucose\"              \"TotalChol\"           \n",
       "[10] \"Triglycerides\"        \"FFA\"                 "
      ]
     },
     "metadata": {},
     "output_type": "display_data"
    }
   ],
   "source": [
    "BXDagingmet <- \"../data/AgingBXD_harvestedfemales_BloodMetabolites_SR.csv\"\n",
    "agingbxdmetab <- read.csv(BXDagingmet)\n",
    "names(agingbxdmetab)"
   ]
  },
  {
   "cell_type": "markdown",
   "id": "advance-nitrogen",
   "metadata": {
    "lines_to_next_cell": 0
   },
   "source": [
    "## Looking at the effect of blood metabolites in harvested females on longevity adjusting for diet and strain effect"
   ]
  },
  {
   "cell_type": "code",
   "execution_count": 18,
   "id": "satisfactory-windsor",
   "metadata": {
    "name": "metabeffect"
   },
   "outputs": [
    {
     "name": "stderr",
     "output_type": "stream",
     "text": [
      "`summarise()` ungrouping output (override with `.groups` argument)\n",
      "\n"
     ]
    },
    {
     "name": "stdout",
     "output_type": "stream",
     "text": [
      "\n",
      " --- ANOVA --- \n",
      "          Glucose          DietCode StrainNameCurrent         Residuals \n",
      "             10.8               0.0              10.7              78.4 \n",
      "\n",
      " --- LM --- \n",
      "\u001b[90m# A tibble: 3 x 5\u001b[39m\n",
      "  coefname    Estimate `Std. Error` `t value` `Pr(>|t|)`\n",
      "  \u001b[3m\u001b[90m<chr>\u001b[39m\u001b[23m          \u001b[3m\u001b[90m<dbl>\u001b[39m\u001b[23m        \u001b[3m\u001b[90m<dbl>\u001b[39m\u001b[23m     \u001b[3m\u001b[90m<dbl>\u001b[39m\u001b[23m      \u001b[3m\u001b[90m<dbl>\u001b[39m\u001b[23m\n",
      "\u001b[90m1\u001b[39m (Intercept)   665.          51.5     12.9     1.88\u001b[90me\u001b[39m\u001b[31m-30\u001b[39m\n",
      "\u001b[90m2\u001b[39m Glucose       -\u001b[31m17\u001b[39m\u001b[31m.\u001b[39m\u001b[31m8\u001b[39m          2.90    -\u001b[31m6\u001b[39m\u001b[31m.\u001b[39m\u001b[31m14\u001b[39m    2.76\u001b[90me\u001b[39m\u001b[31m- 9\u001b[39m\n",
      "\u001b[90m3\u001b[39m DietCodeHF     -\u001b[31m3\u001b[39m\u001b[31m.\u001b[39m\u001b[31m17\u001b[39m        18.8     -\u001b[31m0\u001b[39m\u001b[31m.\u001b[39m\u001b[31m169\u001b[39m   8.66\u001b[90me\u001b[39m\u001b[31m- 1\u001b[39m\n",
      "\n",
      " --- LMM --- \n",
      "              Estimate Std. Error    t value\n",
      "(Intercept) 599.314105  33.180205 18.0623989\n",
      "Glucose     -17.018424   2.780295 -6.1210857\n",
      "DietCodeHF   -4.328789  18.564941 -0.2331701\n",
      "\n",
      " --- Meta --- \n",
      "        estimate       se      zval         pval     ci.lb     ci.ub\n",
      "Glucose -19.4536 3.179116 -6.119187 9.405374e-10 -25.68456 -13.22265\n"
     ]
    },
    {
     "data": {
      "text/plain": [
       "\n",
       "Random-Effects Model (k = 20; tau^2 estimator: REML)\n",
       "\n",
       "  logLik  deviance       AIC       BIC      AICc \n",
       "-77.4679  154.9358  158.9358  160.8247  159.6858   \n",
       "\n",
       "tau^2 (estimated amount of total heterogeneity): 40.5787 (SE = 58.6857)\n",
       "tau (square root of estimated tau^2 value):      6.3701\n",
       "I^2 (total heterogeneity / total variability):   21.28%\n",
       "H^2 (total variability / sampling variability):  1.27\n",
       "\n",
       "Test for Heterogeneity:\n",
       "Q(df = 19) = 20.7254, p-val = 0.3522\n",
       "\n",
       "Model Results:\n",
       "\n",
       "estimate      se     zval    pval     ci.lb     ci.ub \n",
       "-19.4536  3.1791  -6.1192  <.0001  -25.6846  -13.2227  *** \n",
       "\n",
       "---\n",
       "Signif. codes:  0 ‘***’ 0.001 ‘**’ 0.01 ‘*’ 0.05 ‘.’ 0.1 ‘ ’ 1\n"
      ]
     },
     "metadata": {},
     "output_type": "display_data"
    },
    {
     "name": "stderr",
     "output_type": "stream",
     "text": [
      "`summarise()` ungrouping output (override with `.groups` argument)\n",
      "\n"
     ]
    },
    {
     "name": "stdout",
     "output_type": "stream",
     "text": [
      "\n",
      " --- ANOVA --- \n",
      "        TotalChol          DietCode StrainNameCurrent         Residuals \n",
      "              5.2               0.0               8.9              85.9 \n",
      "\n",
      " --- LM --- \n",
      "\u001b[90m# A tibble: 3 x 5\u001b[39m\n",
      "  coefname    Estimate `Std. Error` `t value` `Pr(>|t|)`\n",
      "  \u001b[3m\u001b[90m<chr>\u001b[39m\u001b[23m          \u001b[3m\u001b[90m<dbl>\u001b[39m\u001b[23m        \u001b[3m\u001b[90m<dbl>\u001b[39m\u001b[23m     \u001b[3m\u001b[90m<dbl>\u001b[39m\u001b[23m      \u001b[3m\u001b[90m<dbl>\u001b[39m\u001b[23m\n",
      "\u001b[90m1\u001b[39m (Intercept)   545.           48.8    11.2     2.92\u001b[90me\u001b[39m\u001b[31m-24\u001b[39m\n",
      "\u001b[90m2\u001b[39m TotalChol     -\u001b[31m38\u001b[39m\u001b[31m.\u001b[39m\u001b[31m0\u001b[39m          12.6    -\u001b[31m3\u001b[39m\u001b[31m.\u001b[39m\u001b[31m0\u001b[39m\u001b[31m3\u001b[39m    2.67\u001b[90me\u001b[39m\u001b[31m- 3\u001b[39m\n",
      "\u001b[90m3\u001b[39m DietCodeHF      2.70         21.4     0.126   9.00\u001b[90me\u001b[39m\u001b[31m- 1\u001b[39m\n",
      "\n",
      " --- LMM --- \n",
      "              Estimate Std. Error    t value\n",
      "(Intercept) 494.882650   25.61165 19.3225585\n",
      "TotalChol   -42.097510   11.77165 -3.5761772\n",
      "DietCodeHF    5.590896   20.83364  0.2683591\n",
      "\n",
      " --- Meta --- \n",
      "           estimate       se      zval        pval     ci.lb     ci.ub\n",
      "TotalChol -56.94514 21.35688 -2.666361 0.007667736 -98.80385 -15.08643\n"
     ]
    },
    {
     "data": {
      "text/plain": [
       "\n",
       "Random-Effects Model (k = 20; tau^2 estimator: REML)\n",
       "\n",
       "   logLik   deviance        AIC        BIC       AICc \n",
       "-115.0542   230.1084   234.1084   235.9973   234.8584   \n",
       "\n",
       "tau^2 (estimated amount of total heterogeneity): 5226.2856 (SE = 2864.1400)\n",
       "tau (square root of estimated tau^2 value):      72.2931\n",
       "I^2 (total heterogeneity / total variability):   65.08%\n",
       "H^2 (total variability / sampling variability):  2.86\n",
       "\n",
       "Test for Heterogeneity:\n",
       "Q(df = 19) = 48.7497, p-val = 0.0002\n",
       "\n",
       "Model Results:\n",
       "\n",
       "estimate       se     zval    pval     ci.lb     ci.ub \n",
       "-56.9451  21.3569  -2.6664  0.0077  -98.8039  -15.0864  ** \n",
       "\n",
       "---\n",
       "Signif. codes:  0 ‘***’ 0.001 ‘**’ 0.01 ‘*’ 0.05 ‘.’ 0.1 ‘ ’ 1\n"
      ]
     },
     "metadata": {},
     "output_type": "display_data"
    },
    {
     "name": "stderr",
     "output_type": "stream",
     "text": [
      "`summarise()` ungrouping output (override with `.groups` argument)\n",
      "\n"
     ]
    },
    {
     "name": "stdout",
     "output_type": "stream",
     "text": [
      "\n",
      " --- ANOVA --- \n",
      "    Triglycerides          DietCode StrainNameCurrent         Residuals \n",
      "              3.7               0.3              10.0              86.0 \n",
      "\n",
      " --- LM --- \n",
      "\u001b[90m# A tibble: 3 x 5\u001b[39m\n",
      "  coefname      Estimate `Std. Error` `t value` `Pr(>|t|)`\n",
      "  \u001b[3m\u001b[90m<chr>\u001b[39m\u001b[23m            \u001b[3m\u001b[90m<dbl>\u001b[39m\u001b[23m        \u001b[3m\u001b[90m<dbl>\u001b[39m\u001b[23m     \u001b[3m\u001b[90m<dbl>\u001b[39m\u001b[23m      \u001b[3m\u001b[90m<dbl>\u001b[39m\u001b[23m\n",
      "\u001b[90m1\u001b[39m (Intercept)      517.          45.3     11.4    3.56\u001b[90me\u001b[39m\u001b[31m-25\u001b[39m\n",
      "\u001b[90m2\u001b[39m Triglycerides    -\u001b[31m81\u001b[39m\u001b[31m.\u001b[39m\u001b[31m6\u001b[39m         27.3     -\u001b[31m2\u001b[39m\u001b[31m.\u001b[39m\u001b[31m99\u001b[39m   3.03\u001b[90me\u001b[39m\u001b[31m- 3\u001b[39m\n",
      "\u001b[90m3\u001b[39m DietCodeHF       -\u001b[31m21\u001b[39m\u001b[31m.\u001b[39m\u001b[31m5\u001b[39m         19.4     -\u001b[31m1\u001b[39m\u001b[31m.\u001b[39m\u001b[31m11\u001b[39m   2.69\u001b[90me\u001b[39m\u001b[31m- 1\u001b[39m\n",
      "\n",
      " --- LMM --- \n",
      "               Estimate Std. Error   t value\n",
      "(Intercept)   461.73705   20.24662 22.805631\n",
      "Triglycerides -84.66676   26.21683 -3.229481\n",
      "DietCodeHF    -19.74008   19.13961 -1.031373\n",
      "\n",
      " --- Meta --- \n",
      "               estimate       se      zval       pval     ci.lb    ci.ub\n",
      "Triglycerides -84.86464 47.25792 -1.795776 0.07253012 -177.4885 7.759172\n"
     ]
    },
    {
     "data": {
      "text/plain": [
       "\n",
       "Random-Effects Model (k = 20; tau^2 estimator: REML)\n",
       "\n",
       "   logLik   deviance        AIC        BIC       AICc \n",
       "-127.9639   255.9279   259.9279   261.8167   260.6779   \n",
       "\n",
       "tau^2 (estimated amount of total heterogeneity): 24685.0766 (SE = 14058.3851)\n",
       "tau (square root of estimated tau^2 value):      157.1149\n",
       "I^2 (total heterogeneity / total variability):   60.61%\n",
       "H^2 (total variability / sampling variability):  2.54\n",
       "\n",
       "Test for Heterogeneity:\n",
       "Q(df = 19) = 53.0842, p-val < .0001\n",
       "\n",
       "Model Results:\n",
       "\n",
       "estimate       se     zval    pval      ci.lb   ci.ub \n",
       "-84.8646  47.2579  -1.7958  0.0725  -177.4885  7.7592  . \n",
       "\n",
       "---\n",
       "Signif. codes:  0 ‘***’ 0.001 ‘**’ 0.01 ‘*’ 0.05 ‘.’ 0.1 ‘ ’ 1\n"
      ]
     },
     "metadata": {},
     "output_type": "display_data"
    },
    {
     "name": "stderr",
     "output_type": "stream",
     "text": [
      "`summarise()` ungrouping output (override with `.groups` argument)\n",
      "\n"
     ]
    },
    {
     "name": "stdout",
     "output_type": "stream",
     "text": [
      "\n",
      " --- ANOVA --- \n",
      "              FFA          DietCode StrainNameCurrent         Residuals \n",
      "              1.9               0.3              10.6              87.2 \n",
      "\n",
      " --- LM --- \n",
      "\u001b[90m# A tibble: 3 x 5\u001b[39m\n",
      "  coefname    Estimate `Std. Error` `t value` `Pr(>|t|)`\n",
      "  \u001b[3m\u001b[90m<chr>\u001b[39m\u001b[23m          \u001b[3m\u001b[90m<dbl>\u001b[39m\u001b[23m        \u001b[3m\u001b[90m<dbl>\u001b[39m\u001b[23m     \u001b[3m\u001b[90m<dbl>\u001b[39m\u001b[23m      \u001b[3m\u001b[90m<dbl>\u001b[39m\u001b[23m\n",
      "\u001b[90m1\u001b[39m (Intercept)    504.          48.3     10.4    9.08\u001b[90me\u001b[39m\u001b[31m-22\u001b[39m\n",
      "\u001b[90m2\u001b[39m FFA            -\u001b[31m76\u001b[39m\u001b[31m.\u001b[39m\u001b[31m7\u001b[39m         32.7     -\u001b[31m2\u001b[39m\u001b[31m.\u001b[39m\u001b[31m34\u001b[39m   1.99\u001b[90me\u001b[39m\u001b[31m- 2\u001b[39m\n",
      "\u001b[90m3\u001b[39m DietCodeHF     -\u001b[31m22\u001b[39m\u001b[31m.\u001b[39m\u001b[31m9\u001b[39m         19.7     -\u001b[31m1\u001b[39m\u001b[31m.\u001b[39m\u001b[31m16\u001b[39m   2.46\u001b[90me\u001b[39m\u001b[31m- 1\u001b[39m\n",
      "\n",
      " --- LMM --- \n",
      "             Estimate Std. Error   t value\n",
      "(Intercept) 467.73642   24.60890 19.006795\n",
      "FFA         -76.28935   31.62933 -2.411981\n",
      "DietCodeHF  -20.91444   19.52872 -1.070958\n",
      "\n",
      " --- Meta --- \n",
      "     estimate       se      zval       pval     ci.lb    ci.ub\n",
      "FFA -99.36553 58.00361 -1.713092 0.08669557 -213.0505 14.31945\n"
     ]
    },
    {
     "data": {
      "text/plain": [
       "\n",
       "Random-Effects Model (k = 20; tau^2 estimator: REML)\n",
       "\n",
       "   logLik   deviance        AIC        BIC       AICc \n",
       "-132.2759   264.5518   268.5518   270.4406   269.3018   \n",
       "\n",
       "tau^2 (estimated amount of total heterogeneity): 36376.4437 (SE = 20973.4428)\n",
       "tau (square root of estimated tau^2 value):      190.7261\n",
       "I^2 (total heterogeneity / total variability):   62.45%\n",
       "H^2 (total variability / sampling variability):  2.66\n",
       "\n",
       "Test for Heterogeneity:\n",
       "Q(df = 19) = 54.4242, p-val < .0001\n",
       "\n",
       "Model Results:\n",
       "\n",
       "estimate       se     zval    pval      ci.lb    ci.ub \n",
       "-99.3655  58.0036  -1.7131  0.0867  -213.0505  14.3195  . \n",
       "\n",
       "---\n",
       "Signif. codes:  0 ‘***’ 0.001 ‘**’ 0.01 ‘*’ 0.05 ‘.’ 0.1 ‘ ’ 1\n"
      ]
     },
     "metadata": {},
     "output_type": "display_data"
    }
   ],
   "source": [
    "out13 <- summarizeByCovariate2(agingbxdmetab,\"AgeAtDeath\",\"Glucose\",\"DietCode\", 10)\n",
    "summary(out13$outMeta)\n",
    "out14 <- summarizeByCovariate2(agingbxdmetab,\"AgeAtDeath\",\"TotalChol\",\"DietCode\", 10)\n",
    "summary(out14$outMeta)\n",
    "out15 <- summarizeByCovariate2(agingbxdmetab,\"AgeAtDeath\",\"Triglycerides\",\"DietCode\", 10)\n",
    "summary(out15$outMeta)\n",
    "out16 <- summarizeByCovariate2(agingbxdmetab,\"AgeAtDeath\",\"FFA\",\"DietCode\", 10)\n",
    "summary(out16$outMeta)"
   ]
  },
  {
   "cell_type": "markdown",
   "id": "administrative-symbol",
   "metadata": {
    "lines_to_next_cell": 0
   },
   "source": [
    "## Looking at the effect of blood metabolites in harvested females on body weight adjusting for diet and strain effect"
   ]
  },
  {
   "cell_type": "code",
   "execution_count": 19,
   "id": "processed-values",
   "metadata": {
    "name": "metabwteffect"
   },
   "outputs": [
    {
     "name": "stderr",
     "output_type": "stream",
     "text": [
      "`summarise()` ungrouping output (override with `.groups` argument)\n",
      "\n"
     ]
    },
    {
     "name": "stdout",
     "output_type": "stream",
     "text": [
      "\n",
      " --- ANOVA --- \n",
      "          Glucose          DietCode StrainNameCurrent         Residuals \n",
      "             11.2              32.1              14.4              42.3 \n",
      "\n",
      " --- LM --- \n",
      "\u001b[90m# A tibble: 3 x 5\u001b[39m\n",
      "  coefname    Estimate `Std. Error` `t value` `Pr(>|t|)`\n",
      "  \u001b[3m\u001b[90m<chr>\u001b[39m\u001b[23m          \u001b[3m\u001b[90m<dbl>\u001b[39m\u001b[23m        \u001b[3m\u001b[90m<dbl>\u001b[39m\u001b[23m     \u001b[3m\u001b[90m<dbl>\u001b[39m\u001b[23m      \u001b[3m\u001b[90m<dbl>\u001b[39m\u001b[23m\n",
      "\u001b[90m1\u001b[39m (Intercept)   30.9          3.29       9.39   1.85\u001b[90me\u001b[39m\u001b[31m-18\u001b[39m\n",
      "\u001b[90m2\u001b[39m Glucose        0.656        0.186      3.54   4.69\u001b[90me\u001b[39m\u001b[31m- 4\u001b[39m\n",
      "\u001b[90m3\u001b[39m DietCodeHF    18.6          1.20      15.5    1.22\u001b[90me\u001b[39m\u001b[31m-39\u001b[39m\n",
      "\n",
      " --- LMM --- \n",
      "              Estimate Std. Error   t value\n",
      "(Intercept) 20.5168026   2.391008  8.580818\n",
      "Glucose      0.7466654   0.182183  4.098435\n",
      "DietCodeHF  18.3094668   1.196126 15.307305\n",
      "\n",
      " --- Meta --- \n",
      "         estimate        se    zval       pval      ci.lb     ci.ub\n",
      "Glucose 0.4598036 0.2130555 2.15814 0.03091696 0.04222245 0.8773848\n"
     ]
    },
    {
     "data": {
      "text/plain": [
       "\n",
       "Random-Effects Model (k = 20; tau^2 estimator: REML)\n",
       "\n",
       "  logLik  deviance       AIC       BIC      AICc \n",
       "-25.2450   50.4900   54.4900   56.3789   55.2400   \n",
       "\n",
       "tau^2 (estimated amount of total heterogeneity): 0.3702 (SE = 0.2658)\n",
       "tau (square root of estimated tau^2 value):      0.6084\n",
       "I^2 (total heterogeneity / total variability):   49.09%\n",
       "H^2 (total variability / sampling variability):  1.96\n",
       "\n",
       "Test for Heterogeneity:\n",
       "Q(df = 19) = 37.8627, p-val = 0.0062\n",
       "\n",
       "Model Results:\n",
       "\n",
       "estimate      se    zval    pval   ci.lb   ci.ub \n",
       "  0.4598  0.2131  2.1581  0.0309  0.0422  0.8774  * \n",
       "\n",
       "---\n",
       "Signif. codes:  0 ‘***’ 0.001 ‘**’ 0.01 ‘*’ 0.05 ‘.’ 0.1 ‘ ’ 1\n"
      ]
     },
     "metadata": {},
     "output_type": "display_data"
    },
    {
     "name": "stderr",
     "output_type": "stream",
     "text": [
      "`summarise()` ungrouping output (override with `.groups` argument)\n",
      "\n"
     ]
    },
    {
     "name": "stdout",
     "output_type": "stream",
     "text": [
      "\n",
      " --- ANOVA --- \n",
      "        TotalChol          DietCode StrainNameCurrent         Residuals \n",
      "             24.5              21.0              13.5              41.0 \n",
      "\n",
      " --- LM --- \n",
      "\u001b[90m# A tibble: 3 x 5\u001b[39m\n",
      "  coefname    Estimate `Std. Error` `t value` `Pr(>|t|)`\n",
      "  \u001b[3m\u001b[90m<chr>\u001b[39m\u001b[23m          \u001b[3m\u001b[90m<dbl>\u001b[39m\u001b[23m        \u001b[3m\u001b[90m<dbl>\u001b[39m\u001b[23m     \u001b[3m\u001b[90m<dbl>\u001b[39m\u001b[23m      \u001b[3m\u001b[90m<dbl>\u001b[39m\u001b[23m\n",
      "\u001b[90m1\u001b[39m (Intercept)    31.3         2.93      10.7    1.10\u001b[90me\u001b[39m\u001b[31m-22\u001b[39m\n",
      "\u001b[90m2\u001b[39m TotalChol       3.54        0.755      4.69   4.32\u001b[90me\u001b[39m\u001b[31m- 6\u001b[39m\n",
      "\u001b[90m3\u001b[39m DietCodeHF     16.8         1.29      13.0    1.15\u001b[90me\u001b[39m\u001b[31m-30\u001b[39m\n",
      "\n",
      " --- LMM --- \n",
      "             Estimate Std. Error   t value\n",
      "(Intercept) 21.578379  1.9013292 11.349102\n",
      "TotalChol    3.892304  0.7387224  5.268967\n",
      "DietCodeHF  16.367047  1.2783525 12.803234\n",
      "\n",
      " --- Meta --- \n",
      "          estimate      se     zval       pval      ci.lb    ci.ub\n",
      "TotalChol 2.003196 1.13554 1.764091 0.07771665 -0.2224216 4.228814\n"
     ]
    },
    {
     "data": {
      "text/plain": [
       "\n",
       "Random-Effects Model (k = 20; tau^2 estimator: REML)\n",
       "\n",
       "  logLik  deviance       AIC       BIC      AICc \n",
       "-57.7232  115.4464  119.4464  121.3353  120.1964   \n",
       "\n",
       "tau^2 (estimated amount of total heterogeneity): 14.7454 (SE = 8.0333)\n",
       "tau (square root of estimated tau^2 value):      3.8400\n",
       "I^2 (total heterogeneity / total variability):   66.75%\n",
       "H^2 (total variability / sampling variability):  3.01\n",
       "\n",
       "Test for Heterogeneity:\n",
       "Q(df = 19) = 63.3205, p-val < .0001\n",
       "\n",
       "Model Results:\n",
       "\n",
       "estimate      se    zval    pval    ci.lb   ci.ub \n",
       "  2.0032  1.1355  1.7641  0.0777  -0.2224  4.2288  . \n",
       "\n",
       "---\n",
       "Signif. codes:  0 ‘***’ 0.001 ‘**’ 0.01 ‘*’ 0.05 ‘.’ 0.1 ‘ ’ 1\n"
      ]
     },
     "metadata": {},
     "output_type": "display_data"
    },
    {
     "name": "stderr",
     "output_type": "stream",
     "text": [
      "`summarise()` ungrouping output (override with `.groups` argument)\n",
      "\n"
     ]
    },
    {
     "name": "stdout",
     "output_type": "stream",
     "text": [
      "\n",
      " --- ANOVA --- \n",
      "    Triglycerides          DietCode StrainNameCurrent         Residuals \n",
      "              1.7              36.7              18.2              43.4 \n",
      "\n",
      " --- LM --- \n",
      "\u001b[90m# A tibble: 3 x 5\u001b[39m\n",
      "  coefname      Estimate `Std. Error` `t value` `Pr(>|t|)`\n",
      "  \u001b[3m\u001b[90m<chr>\u001b[39m\u001b[23m            \u001b[3m\u001b[90m<dbl>\u001b[39m\u001b[23m        \u001b[3m\u001b[90m<dbl>\u001b[39m\u001b[23m     \u001b[3m\u001b[90m<dbl>\u001b[39m\u001b[23m      \u001b[3m\u001b[90m<dbl>\u001b[39m\u001b[23m\n",
      "\u001b[90m1\u001b[39m (Intercept)      35.9          2.80     12.8    3.96\u001b[90me\u001b[39m\u001b[31m-30\u001b[39m\n",
      "\u001b[90m2\u001b[39m Triglycerides     3.79         1.68      2.25   2.51\u001b[90me\u001b[39m\u001b[31m- 2\u001b[39m\n",
      "\u001b[90m3\u001b[39m DietCodeHF       19.2          1.20     16.1    5.56\u001b[90me\u001b[39m\u001b[31m-42\u001b[39m\n",
      "\n",
      " --- LMM --- \n",
      "               Estimate Std. Error   t value\n",
      "(Intercept)   26.545640   1.784647 14.874445\n",
      "Triglycerides  3.636805   1.664512  2.184907\n",
      "DietCodeHF    19.094587   1.192324 16.014595\n",
      "\n",
      " --- Meta --- \n",
      "              estimate       se     zval       pval     ci.lb    ci.ub\n",
      "Triglycerides 3.784449 1.532434 2.469567 0.01352768 0.7809326 6.787965\n"
     ]
    },
    {
     "data": {
      "text/plain": [
       "\n",
       "Random-Effects Model (k = 20; tau^2 estimator: REML)\n",
       "\n",
       "  logLik  deviance       AIC       BIC      AICc \n",
       "-66.5844  133.1689  137.1689  139.0577  137.9189   \n",
       "\n",
       "tau^2 (estimated amount of total heterogeneity): 4.2383 (SE = 12.5387)\n",
       "tau (square root of estimated tau^2 value):      2.0587\n",
       "I^2 (total heterogeneity / total variability):   9.27%\n",
       "H^2 (total variability / sampling variability):  1.10\n",
       "\n",
       "Test for Heterogeneity:\n",
       "Q(df = 19) = 21.1225, p-val = 0.3301\n",
       "\n",
       "Model Results:\n",
       "\n",
       "estimate      se    zval    pval   ci.lb   ci.ub \n",
       "  3.7844  1.5324  2.4696  0.0135  0.7809  6.7880  * \n",
       "\n",
       "---\n",
       "Signif. codes:  0 ‘***’ 0.001 ‘**’ 0.01 ‘*’ 0.05 ‘.’ 0.1 ‘ ’ 1\n"
      ]
     },
     "metadata": {},
     "output_type": "display_data"
    },
    {
     "name": "stderr",
     "output_type": "stream",
     "text": [
      "`summarise()` ungrouping output (override with `.groups` argument)\n",
      "\n"
     ]
    },
    {
     "name": "stdout",
     "output_type": "stream",
     "text": [
      "\n",
      " --- ANOVA --- \n",
      "              FFA          DietCode StrainNameCurrent         Residuals \n",
      "              0.1              37.8              17.9              44.2 \n",
      "\n",
      " --- LM --- \n",
      "\u001b[90m# A tibble: 3 x 5\u001b[39m\n",
      "  coefname    Estimate `Std. Error` `t value` `Pr(>|t|)`\n",
      "  \u001b[3m\u001b[90m<chr>\u001b[39m\u001b[23m          \u001b[3m\u001b[90m<dbl>\u001b[39m\u001b[23m        \u001b[3m\u001b[90m<dbl>\u001b[39m\u001b[23m     \u001b[3m\u001b[90m<dbl>\u001b[39m\u001b[23m      \u001b[3m\u001b[90m<dbl>\u001b[39m\u001b[23m\n",
      "\u001b[90m1\u001b[39m (Intercept)   37.1           2.99    12.4     2.20\u001b[90me\u001b[39m\u001b[31m-28\u001b[39m\n",
      "\u001b[90m2\u001b[39m FFA            0.477         2.03     0.235   8.15\u001b[90me\u001b[39m\u001b[31m- 1\u001b[39m\n",
      "\u001b[90m3\u001b[39m DietCodeHF    19.5           1.23    15.9     5.52\u001b[90me\u001b[39m\u001b[31m-41\u001b[39m\n",
      "\n",
      " --- LMM --- \n",
      "              Estimate Std. Error    t value\n",
      "(Intercept) 27.9477793   1.977795 14.1307791\n",
      "FFA          0.5210708   2.007629  0.2595454\n",
      "DietCodeHF  19.3643010   1.222808 15.8359338\n",
      "\n",
      " --- Meta --- \n",
      "    estimate       se     zval       pval     ci.lb    ci.ub\n",
      "FFA 4.336819 2.091732 2.073315 0.03814298 0.2370998 8.436538\n"
     ]
    },
    {
     "data": {
      "text/plain": [
       "\n",
       "Random-Effects Model (k = 20; tau^2 estimator: REML)\n",
       "\n",
       "  logLik  deviance       AIC       BIC      AICc \n",
       "-71.0615  142.1230  146.1230  148.0118  146.8730   \n",
       "\n",
       "tau^2 (estimated amount of total heterogeneity): 15.8173 (SE = 24.8591)\n",
       "tau (square root of estimated tau^2 value):      3.9771\n",
       "I^2 (total heterogeneity / total variability):   19.19%\n",
       "H^2 (total variability / sampling variability):  1.24\n",
       "\n",
       "Test for Heterogeneity:\n",
       "Q(df = 19) = 22.4464, p-val = 0.2626\n",
       "\n",
       "Model Results:\n",
       "\n",
       "estimate      se    zval    pval   ci.lb   ci.ub \n",
       "  4.3368  2.0917  2.0733  0.0381  0.2371  8.4365  * \n",
       "\n",
       "---\n",
       "Signif. codes:  0 ‘***’ 0.001 ‘**’ 0.01 ‘*’ 0.05 ‘.’ 0.1 ‘ ’ 1\n"
      ]
     },
     "metadata": {},
     "output_type": "display_data"
    }
   ],
   "source": [
    "out13a <- summarizeByCovariate2(agingbxdmetab,\"WeightBody\",\"Glucose\",\"DietCode\", 10)\n",
    "summary(out13a$outMeta)\n",
    "out14a <- summarizeByCovariate2(agingbxdmetab,\"WeightBody\",\"TotalChol\",\"DietCode\", 10)\n",
    "summary(out14a$outMeta)\n",
    "out15a <- summarizeByCovariate2(agingbxdmetab,\"WeightBody\",\"Triglycerides\",\"DietCode\", 10)\n",
    "summary(out15a$outMeta)\n",
    "out16a <- summarizeByCovariate2(agingbxdmetab,\"WeightBody\",\"FFA\",\"DietCode\", 10)\n",
    "summary(out16a$outMeta)"
   ]
  },
  {
   "cell_type": "markdown",
   "id": "consecutive-income",
   "metadata": {},
   "source": [
    "## Coefficient of variation in longevity"
   ]
  },
  {
   "cell_type": "code",
   "execution_count": 20,
   "id": "social-commitment",
   "metadata": {},
   "outputs": [
    {
     "name": "stderr",
     "output_type": "stream",
     "text": [
      "`summarise()` regrouping output by 'DietCode' (override with `.groups` argument)\n",
      "\n"
     ]
    }
   ],
   "source": [
    "longevityMeanSD <- group_by(agingbxd,DietCode,StrainNameCurrent) %>% \n",
    "             summarise(n=n(),mean=mean(AgeAtDeath),sd=sd(AgeAtDeath) ) %>% \n",
    "             pivot_wider(names_from = DietCode,values_from = c(n,mean,sd)) %>%\n",
    "             filter((n_CD>=6) & (n_HF>=6))"
   ]
  },
  {
   "cell_type": "code",
   "execution_count": 21,
   "id": "taken-patrol",
   "metadata": {},
   "outputs": [
    {
     "data": {
      "text/plain": [
       "\n",
       "Random-Effects Model (k = 50; tau^2 estimator: REML)\n",
       "\n",
       "tau^2 (estimated amount of total heterogeneity): 0.0996 (SE = 0.0424)\n",
       "tau (square root of estimated tau^2 value):      0.3155\n",
       "I^2 (total heterogeneity / total variability):   48.22%\n",
       "H^2 (total variability / sampling variability):  1.93\n",
       "\n",
       "Test for Heterogeneity:\n",
       "Q(df = 49) = 94.9778, p-val < .0001\n",
       "\n",
       "Model Results:\n",
       "\n",
       "estimate      se    zval    pval    ci.lb   ci.ub \n",
       "  0.0757  0.0653  1.1591  0.2464  -0.0523  0.2037    \n",
       "\n",
       "---\n",
       "Signif. codes:  0 ‘***’ 0.001 ‘**’ 0.01 ‘*’ 0.05 ‘.’ 0.1 ‘ ’ 1\n"
      ]
     },
     "metadata": {},
     "output_type": "display_data"
    }
   ],
   "source": [
    "rma.uni(n1i=n_CD,n2i=n_HF,m1i=mean_CD,m2i=mean_HF,sd1i=sd_CD,sd2i=sd_HF,\n",
    "        measure=\"CVR\",data=longevityMeanSD)"
   ]
  },
  {
   "cell_type": "markdown",
   "id": "judicial-savannah",
   "metadata": {},
   "source": [
    "## Session info"
   ]
  },
  {
   "cell_type": "code",
   "execution_count": 22,
   "id": "quantitative-geology",
   "metadata": {},
   "outputs": [
    {
     "data": {
      "text/plain": [
       "R version 4.0.2 (2020-06-22)\n",
       "Platform: x86_64-apple-darwin17.0 (64-bit)\n",
       "Running under: macOS Catalina 10.15.7\n",
       "\n",
       "Matrix products: default\n",
       "BLAS:   /Library/Frameworks/R.framework/Versions/4.0/Resources/lib/libRblas.dylib\n",
       "LAPACK: /Library/Frameworks/R.framework/Versions/4.0/Resources/lib/libRlapack.dylib\n",
       "\n",
       "locale:\n",
       "[1] en_US.UTF-8/en_US.UTF-8/en_US.UTF-8/C/en_US.UTF-8/en_US.UTF-8\n",
       "\n",
       "attached base packages:\n",
       "[1] stats     graphics  grDevices utils     datasets  methods   base     \n",
       "\n",
       "other attached packages:\n",
       " [1] metafor_2.4-0   lme4_1.1-26     Matrix_1.2-18   vioplot_0.3.5  \n",
       " [5] zoo_1.8-8       sm_2.2-5.6      forcats_0.5.0   stringr_1.4.0  \n",
       " [9] dplyr_1.0.1     purrr_0.3.4     readr_1.3.1     tidyr_1.1.1    \n",
       "[13] tibble_3.0.3    ggplot2_3.3.2   tidyverse_1.3.0\n",
       "\n",
       "loaded via a namespace (and not attached):\n",
       " [1] Rcpp_1.0.6       lubridate_1.7.9  lattice_0.20-41  ps_1.3.4        \n",
       " [5] utf8_1.1.4       assertthat_0.2.1 digest_0.6.25    IRdisplay_0.7.0 \n",
       " [9] R6_2.5.0         cellranger_1.1.0 repr_1.1.0       backports_1.2.1 \n",
       "[13] reprex_0.3.0     evaluate_0.14    httr_1.4.2       pillar_1.4.6    \n",
       "[17] rlang_0.4.10     uuid_0.1-4       readxl_1.3.1     minqa_1.2.4     \n",
       "[21] rstudioapi_0.13  nloptr_1.2.2.2   blob_1.2.1       splines_4.0.2   \n",
       "[25] statmod_1.4.35   munsell_0.5.0    broom_0.7.0      compiler_4.0.2  \n",
       "[29] modelr_0.1.8     pkgconfig_2.0.3  base64enc_0.1-3  htmltools_0.5.0 \n",
       "[33] tcltk_4.0.2      tidyselect_1.1.0 fansi_0.4.1      crayon_1.4.0    \n",
       "[37] dbplyr_1.4.4     withr_2.4.1      MASS_7.3-51.6    grid_4.0.2      \n",
       "[41] nlme_3.1-148     jsonlite_1.7.2   gtable_0.3.0     lifecycle_0.2.0 \n",
       "[45] DBI_1.1.0        magrittr_2.0.1   scales_1.1.1     cli_2.3.0       \n",
       "[49] stringi_1.4.6    fs_1.5.0         xml2_1.3.2       ellipsis_0.3.1  \n",
       "[53] generics_0.1.0   vctrs_0.3.2      boot_1.3-25      IRkernel_1.1.1  \n",
       "[57] tools_4.0.2      glue_1.4.2       hms_0.5.3        colorspace_1.4-1\n",
       "[61] rvest_0.3.6      pbdZMQ_0.3-3     haven_2.3.1     "
      ]
     },
     "metadata": {},
     "output_type": "display_data"
    }
   ],
   "source": [
    "sessionInfo()"
   ]
  }
 ],
 "metadata": {
  "jupytext": {
   "formats": "ipynb,Rmd"
  },
  "kernelspec": {
   "display_name": "R",
   "language": "R",
   "name": "ir"
  },
  "language_info": {
   "codemirror_mode": "r",
   "file_extension": ".r",
   "mimetype": "text/x-r-source",
   "name": "R",
   "pygments_lexer": "r",
   "version": "4.0.2"
  }
 },
 "nbformat": 4,
 "nbformat_minor": 5
}
